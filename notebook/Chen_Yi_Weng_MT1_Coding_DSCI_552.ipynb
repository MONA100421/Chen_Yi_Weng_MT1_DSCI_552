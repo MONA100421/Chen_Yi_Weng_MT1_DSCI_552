{
 "cells": [
  {
   "cell_type": "markdown",
   "id": "67eb6441",
   "metadata": {},
   "source": [
    "# Programming Question: Predicting Housing Prices with Linear Regression"
   ]
  },
  {
   "cell_type": "markdown",
   "id": "be4bcf84",
   "metadata": {},
   "source": [
    "**Name:** Chen Yi Weng  \n",
    "**USC ID:** 3769237784"
   ]
  },
  {
   "cell_type": "markdown",
   "id": "fd341e31",
   "metadata": {},
   "source": [
    "## Data Exploration and Pre-processing"
   ]
  },
  {
   "cell_type": "code",
   "execution_count": 1,
   "id": "cc92395d",
   "metadata": {},
   "outputs": [],
   "source": [
    "# Import all required libraries\n",
    "import pandas as pd\n",
    "import numpy as np\n",
    "import seaborn as sns\n",
    "import matplotlib.pyplot as plt\n",
    "\n",
    "from sklearn.model_selection import train_test_split, cross_val_score\n",
    "from sklearn.linear_model import LinearRegression, Ridge, Lasso\n",
    "from sklearn.metrics import mean_absolute_error, mean_squared_error, r2_score\n"
   ]
  },
  {
   "cell_type": "markdown",
   "id": "e8e75021",
   "metadata": {},
   "source": [
    "### Part a (i): Load the Dataset"
   ]
  },
  {
   "cell_type": "code",
   "execution_count": 2,
   "id": "126ddce3",
   "metadata": {},
   "outputs": [],
   "source": [
    "\n",
    "housing_df = pd.read_csv(\"../data/USA_Housing.csv\")\n"
   ]
  },
  {
   "cell_type": "markdown",
   "id": "be7995f6",
   "metadata": {},
   "source": [
    "### Part a (ii): Basic Data Exploration"
   ]
  },
  {
   "cell_type": "code",
   "execution_count": 3,
   "id": "58547083",
   "metadata": {},
   "outputs": [
    {
     "data": {
      "text/html": [
       "<div>\n",
       "<style scoped>\n",
       "    .dataframe tbody tr th:only-of-type {\n",
       "        vertical-align: middle;\n",
       "    }\n",
       "\n",
       "    .dataframe tbody tr th {\n",
       "        vertical-align: top;\n",
       "    }\n",
       "\n",
       "    .dataframe thead th {\n",
       "        text-align: right;\n",
       "    }\n",
       "</style>\n",
       "<table border=\"1\" class=\"dataframe\">\n",
       "  <thead>\n",
       "    <tr style=\"text-align: right;\">\n",
       "      <th></th>\n",
       "      <th>Avg. Area Income</th>\n",
       "      <th>Avg. Area House Age</th>\n",
       "      <th>Avg. Area Number of Rooms</th>\n",
       "      <th>Avg. Area Number of Bedrooms</th>\n",
       "      <th>Area Population</th>\n",
       "      <th>Price</th>\n",
       "      <th>Address</th>\n",
       "    </tr>\n",
       "  </thead>\n",
       "  <tbody>\n",
       "    <tr>\n",
       "      <th>0</th>\n",
       "      <td>79545.458574</td>\n",
       "      <td>5.682861</td>\n",
       "      <td>7.009188</td>\n",
       "      <td>4.09</td>\n",
       "      <td>23086.800503</td>\n",
       "      <td>1.059034e+06</td>\n",
       "      <td>208 Michael Ferry Apt. 674\\nLaurabury, NE 3701...</td>\n",
       "    </tr>\n",
       "    <tr>\n",
       "      <th>1</th>\n",
       "      <td>79248.642455</td>\n",
       "      <td>6.002900</td>\n",
       "      <td>6.730821</td>\n",
       "      <td>3.09</td>\n",
       "      <td>40173.072174</td>\n",
       "      <td>1.505891e+06</td>\n",
       "      <td>188 Johnson Views Suite 079\\nLake Kathleen, CA...</td>\n",
       "    </tr>\n",
       "    <tr>\n",
       "      <th>2</th>\n",
       "      <td>61287.067179</td>\n",
       "      <td>5.865890</td>\n",
       "      <td>8.512727</td>\n",
       "      <td>5.13</td>\n",
       "      <td>36882.159400</td>\n",
       "      <td>1.058988e+06</td>\n",
       "      <td>9127 Elizabeth Stravenue\\nDanieltown, WI 06482...</td>\n",
       "    </tr>\n",
       "    <tr>\n",
       "      <th>3</th>\n",
       "      <td>63345.240046</td>\n",
       "      <td>7.188236</td>\n",
       "      <td>5.586729</td>\n",
       "      <td>3.26</td>\n",
       "      <td>34310.242831</td>\n",
       "      <td>1.260617e+06</td>\n",
       "      <td>USS Barnett\\nFPO AP 44820</td>\n",
       "    </tr>\n",
       "    <tr>\n",
       "      <th>4</th>\n",
       "      <td>59982.197226</td>\n",
       "      <td>5.040555</td>\n",
       "      <td>7.839388</td>\n",
       "      <td>4.23</td>\n",
       "      <td>26354.109472</td>\n",
       "      <td>6.309435e+05</td>\n",
       "      <td>USNS Raymond\\nFPO AE 09386</td>\n",
       "    </tr>\n",
       "  </tbody>\n",
       "</table>\n",
       "</div>"
      ],
      "text/plain": [
       "   Avg. Area Income  Avg. Area House Age  Avg. Area Number of Rooms  \\\n",
       "0      79545.458574             5.682861                   7.009188   \n",
       "1      79248.642455             6.002900                   6.730821   \n",
       "2      61287.067179             5.865890                   8.512727   \n",
       "3      63345.240046             7.188236                   5.586729   \n",
       "4      59982.197226             5.040555                   7.839388   \n",
       "\n",
       "   Avg. Area Number of Bedrooms  Area Population         Price  \\\n",
       "0                          4.09     23086.800503  1.059034e+06   \n",
       "1                          3.09     40173.072174  1.505891e+06   \n",
       "2                          5.13     36882.159400  1.058988e+06   \n",
       "3                          3.26     34310.242831  1.260617e+06   \n",
       "4                          4.23     26354.109472  6.309435e+05   \n",
       "\n",
       "                                             Address  \n",
       "0  208 Michael Ferry Apt. 674\\nLaurabury, NE 3701...  \n",
       "1  188 Johnson Views Suite 079\\nLake Kathleen, CA...  \n",
       "2  9127 Elizabeth Stravenue\\nDanieltown, WI 06482...  \n",
       "3                          USS Barnett\\nFPO AP 44820  \n",
       "4                         USNS Raymond\\nFPO AE 09386  "
      ]
     },
     "execution_count": 3,
     "metadata": {},
     "output_type": "execute_result"
    }
   ],
   "source": [
    "# Display the first 5 rows\n",
    "housing_df.head()"
   ]
  },
  {
   "cell_type": "code",
   "execution_count": 4,
   "id": "bec59045",
   "metadata": {},
   "outputs": [
    {
     "name": "stdout",
     "output_type": "stream",
     "text": [
      "<class 'pandas.core.frame.DataFrame'>\n",
      "RangeIndex: 5000 entries, 0 to 4999\n",
      "Data columns (total 7 columns):\n",
      " #   Column                        Non-Null Count  Dtype  \n",
      "---  ------                        --------------  -----  \n",
      " 0   Avg. Area Income              5000 non-null   float64\n",
      " 1   Avg. Area House Age           5000 non-null   float64\n",
      " 2   Avg. Area Number of Rooms     5000 non-null   float64\n",
      " 3   Avg. Area Number of Bedrooms  5000 non-null   float64\n",
      " 4   Area Population               5000 non-null   float64\n",
      " 5   Price                         5000 non-null   float64\n",
      " 6   Address                       5000 non-null   object \n",
      "dtypes: float64(6), object(1)\n",
      "memory usage: 273.6+ KB\n"
     ]
    }
   ],
   "source": [
    "# Show data types and non-null counts\n",
    "housing_df.info()\n"
   ]
  },
  {
   "cell_type": "code",
   "execution_count": 5,
   "id": "6ee41d09",
   "metadata": {},
   "outputs": [
    {
     "data": {
      "text/html": [
       "<div>\n",
       "<style scoped>\n",
       "    .dataframe tbody tr th:only-of-type {\n",
       "        vertical-align: middle;\n",
       "    }\n",
       "\n",
       "    .dataframe tbody tr th {\n",
       "        vertical-align: top;\n",
       "    }\n",
       "\n",
       "    .dataframe thead th {\n",
       "        text-align: right;\n",
       "    }\n",
       "</style>\n",
       "<table border=\"1\" class=\"dataframe\">\n",
       "  <thead>\n",
       "    <tr style=\"text-align: right;\">\n",
       "      <th></th>\n",
       "      <th>Avg. Area Income</th>\n",
       "      <th>Avg. Area House Age</th>\n",
       "      <th>Avg. Area Number of Rooms</th>\n",
       "      <th>Avg. Area Number of Bedrooms</th>\n",
       "      <th>Area Population</th>\n",
       "      <th>Price</th>\n",
       "    </tr>\n",
       "  </thead>\n",
       "  <tbody>\n",
       "    <tr>\n",
       "      <th>count</th>\n",
       "      <td>5000.000000</td>\n",
       "      <td>5000.000000</td>\n",
       "      <td>5000.000000</td>\n",
       "      <td>5000.000000</td>\n",
       "      <td>5000.000000</td>\n",
       "      <td>5.000000e+03</td>\n",
       "    </tr>\n",
       "    <tr>\n",
       "      <th>mean</th>\n",
       "      <td>68583.108984</td>\n",
       "      <td>5.977222</td>\n",
       "      <td>6.987792</td>\n",
       "      <td>3.981330</td>\n",
       "      <td>36163.516039</td>\n",
       "      <td>1.232073e+06</td>\n",
       "    </tr>\n",
       "    <tr>\n",
       "      <th>std</th>\n",
       "      <td>10657.991214</td>\n",
       "      <td>0.991456</td>\n",
       "      <td>1.005833</td>\n",
       "      <td>1.234137</td>\n",
       "      <td>9925.650114</td>\n",
       "      <td>3.531176e+05</td>\n",
       "    </tr>\n",
       "    <tr>\n",
       "      <th>min</th>\n",
       "      <td>17796.631190</td>\n",
       "      <td>2.644304</td>\n",
       "      <td>3.236194</td>\n",
       "      <td>2.000000</td>\n",
       "      <td>172.610686</td>\n",
       "      <td>1.593866e+04</td>\n",
       "    </tr>\n",
       "    <tr>\n",
       "      <th>25%</th>\n",
       "      <td>61480.562388</td>\n",
       "      <td>5.322283</td>\n",
       "      <td>6.299250</td>\n",
       "      <td>3.140000</td>\n",
       "      <td>29403.928702</td>\n",
       "      <td>9.975771e+05</td>\n",
       "    </tr>\n",
       "    <tr>\n",
       "      <th>50%</th>\n",
       "      <td>68804.286404</td>\n",
       "      <td>5.970429</td>\n",
       "      <td>7.002902</td>\n",
       "      <td>4.050000</td>\n",
       "      <td>36199.406689</td>\n",
       "      <td>1.232669e+06</td>\n",
       "    </tr>\n",
       "    <tr>\n",
       "      <th>75%</th>\n",
       "      <td>75783.338666</td>\n",
       "      <td>6.650808</td>\n",
       "      <td>7.665871</td>\n",
       "      <td>4.490000</td>\n",
       "      <td>42861.290769</td>\n",
       "      <td>1.471210e+06</td>\n",
       "    </tr>\n",
       "    <tr>\n",
       "      <th>max</th>\n",
       "      <td>107701.748378</td>\n",
       "      <td>9.519088</td>\n",
       "      <td>10.759588</td>\n",
       "      <td>6.500000</td>\n",
       "      <td>69621.713378</td>\n",
       "      <td>2.469066e+06</td>\n",
       "    </tr>\n",
       "  </tbody>\n",
       "</table>\n",
       "</div>"
      ],
      "text/plain": [
       "       Avg. Area Income  Avg. Area House Age  Avg. Area Number of Rooms  \\\n",
       "count       5000.000000          5000.000000                5000.000000   \n",
       "mean       68583.108984             5.977222                   6.987792   \n",
       "std        10657.991214             0.991456                   1.005833   \n",
       "min        17796.631190             2.644304                   3.236194   \n",
       "25%        61480.562388             5.322283                   6.299250   \n",
       "50%        68804.286404             5.970429                   7.002902   \n",
       "75%        75783.338666             6.650808                   7.665871   \n",
       "max       107701.748378             9.519088                  10.759588   \n",
       "\n",
       "       Avg. Area Number of Bedrooms  Area Population         Price  \n",
       "count                   5000.000000      5000.000000  5.000000e+03  \n",
       "mean                       3.981330     36163.516039  1.232073e+06  \n",
       "std                        1.234137      9925.650114  3.531176e+05  \n",
       "min                        2.000000       172.610686  1.593866e+04  \n",
       "25%                        3.140000     29403.928702  9.975771e+05  \n",
       "50%                        4.050000     36199.406689  1.232669e+06  \n",
       "75%                        4.490000     42861.290769  1.471210e+06  \n",
       "max                        6.500000     69621.713378  2.469066e+06  "
      ]
     },
     "execution_count": 5,
     "metadata": {},
     "output_type": "execute_result"
    }
   ],
   "source": [
    "# Descriptive statistics for numeric features\n",
    "housing_df.describe()\n"
   ]
  },
  {
   "cell_type": "code",
   "execution_count": 6,
   "id": "cd110abb",
   "metadata": {},
   "outputs": [
    {
     "data": {
      "text/plain": [
       "Avg. Area Income                0\n",
       "Avg. Area House Age             0\n",
       "Avg. Area Number of Rooms       0\n",
       "Avg. Area Number of Bedrooms    0\n",
       "Area Population                 0\n",
       "Price                           0\n",
       "Address                         0\n",
       "dtype: int64"
      ]
     },
     "execution_count": 6,
     "metadata": {},
     "output_type": "execute_result"
    }
   ],
   "source": [
    "# Check for missing values in each column\n",
    "housing_df.isnull().sum()\n"
   ]
  },
  {
   "cell_type": "markdown",
   "id": "36fdc1ac",
   "metadata": {},
   "source": [
    "I loaded the `USA_Housing.csv` dataset into a DataFrame named `housing_df`.  \n",
    "It contains 5000 entries with 7 columns. All columns are complete with no missing values.  \n",
    "There are 6 numerical columns and 1 categorical column (`Address`).\n"
   ]
  },
  {
   "cell_type": "markdown",
   "id": "fd9243d7",
   "metadata": {},
   "source": [
    "### Part a (iii): Identify Features and Target Variable"
   ]
  },
  {
   "cell_type": "code",
   "execution_count": 7,
   "id": "85afbe62",
   "metadata": {},
   "outputs": [],
   "source": [
    "# Define target and feature columns\n",
    "target_column = 'Price'\n",
    "feature_columns = [\n",
    "    col for col in housing_df.select_dtypes(include='number').columns\n",
    "    if col != target_column\n",
    "]\n"
   ]
  },
  {
   "cell_type": "markdown",
   "id": "3cce67ba",
   "metadata": {},
   "source": [
    "The target variable is `Price`.  \n",
    "The features (independent variables) are:\n",
    "- `Avg. Area Income`\n",
    "- `Avg. Area House Age`\n",
    "- `Avg. Area Number of Rooms`\n",
    "- `Avg. Area Number of Bedrooms`\n",
    "- `Area Population`"
   ]
  },
  {
   "cell_type": "markdown",
   "id": "fdb4eeb9",
   "metadata": {},
   "source": [
    "### Part a (iv): Feature Engineering"
   ]
  },
  {
   "cell_type": "code",
   "execution_count": 8,
   "id": "a929598b",
   "metadata": {},
   "outputs": [],
   "source": [
    "# Create Avg_Area_Room_Per_Person = Rooms / Bedrooms\n",
    "housing_df['Avg_Area_Room_Per_Person'] = (\n",
    "    housing_df['Avg. Area Number of Rooms'] / housing_df['Avg. Area Number of Bedrooms']\n",
    ")\n"
   ]
  },
  {
   "cell_type": "code",
   "execution_count": 9,
   "id": "1d56435e",
   "metadata": {},
   "outputs": [],
   "source": [
    "# Extract 5-digit Zip Code (if available) from the Address column\n",
    "housing_df['Zip_Code'] = housing_df['Address'].str.extract(r'(\\d{5})').astype(float)\n"
   ]
  },
  {
   "cell_type": "markdown",
   "id": "ca374d04",
   "metadata": {},
   "source": [
    "I made a new feature called `Avg_Area_Room_Per_Person`.\n",
    "It is made by dividing the number of rooms by the number of bedrooms.\n",
    "This shows how many rooms each bedroom has on average.\n",
    "I think this might help show how large or nice the house is.\n",
    "\n",
    "I also took out 5-digit zip codes from the `Address` column.\n",
    "Even though `Address` is just text, the zip code can tell us something about the neighborhood.\n",
    "Some areas may have higher house prices, so the zip code might be useful."
   ]
  },
  {
   "cell_type": "markdown",
   "id": "b884a803",
   "metadata": {},
   "source": [
    "### Part a (v): Outlier Detection"
   ]
  },
  {
   "cell_type": "code",
   "execution_count": 10,
   "id": "fd0d7a1f",
   "metadata": {},
   "outputs": [],
   "source": [
    "# Use Z-score to detect outliers in the Price column\n",
    "price_z = (housing_df['Price'] - housing_df['Price'].mean()) / housing_df['Price'].std()\n",
    "housing_df_no_outliers = housing_df[price_z.abs() < 3]\n"
   ]
  },
  {
   "cell_type": "code",
   "execution_count": 11,
   "id": "a1c04fab",
   "metadata": {},
   "outputs": [
    {
     "data": {
      "image/png": "[encoded data removed]",
      "text/plain": [
       "<Figure size 1200x500 with 2 Axes>"
      ]
     },
     "metadata": {},
     "output_type": "display_data"
    }
   ],
   "source": [
    "# Visualize Price distribution before and after removing outliers\n",
    "plt.figure(figsize=(12, 5))\n",
    "\n",
    "plt.subplot(1, 2, 1)\n",
    "sns.histplot(housing_df['Price'], bins=30, kde=True, color='orange')\n",
    "plt.title(\"Price Distribution (Before Outlier Removal)\", fontsize=16, fontweight='bold')\n",
    "plt.xlabel(\"Price\")\n",
    "\n",
    "plt.subplot(1, 2, 2)\n",
    "sns.histplot(housing_df_no_outliers['Price'], bins=30, kde=True, color='orange')\n",
    "plt.title(\"Price Distribution (After Outlier Removal)\", fontsize=16, fontweight='bold')\n",
    "plt.xlabel(\"Price\")\n",
    "\n",
    "plt.tight_layout()\n",
    "plt.show()\n"
   ]
  },
  {
   "cell_type": "markdown",
   "id": "60c39a54",
   "metadata": {},
   "source": [
    "To find outliers in the `Price` column, I used the **Z-score method**.\n",
    "\n",
    "- First, I calculated the Z-score for each price.\n",
    "- If the score was above 3 or below -3, I treated it as an outlier.\n",
    "- Then I removed those rows to make the data more normal.\n",
    "\n",
    "In the left chart, I show the price distribution **before** removing outliers.  \n",
    "In the right chart, I show it **after** removing outliers.\n",
    "\n",
    "- After removing the outliers, the shape looks smoother and more balanced.  \n",
    "- This helps the model learn better and makes predictions more stable.\n"
   ]
  },
  {
   "cell_type": "markdown",
   "id": "e6486a71",
   "metadata": {},
   "source": [
    "## Linear Regression Model"
   ]
  },
  {
   "cell_type": "markdown",
   "id": "4896d831",
   "metadata": {},
   "source": [
    "### Part b (i): Split the Dataset"
   ]
  },
  {
   "cell_type": "code",
   "execution_count": 12,
   "id": "0aabacb8",
   "metadata": {},
   "outputs": [],
   "source": [
    "# Prepare features and target using the cleaned dataset\n",
    "final_features = feature_columns + ['Avg_Area_Room_Per_Person', 'Zip_Code']\n",
    "X = housing_df_no_outliers[final_features]\n",
    "y = housing_df_no_outliers['Price']\n",
    "\n",
    "# Split into 80% training and 20% testing\n",
    "X_train, X_test, y_train, y_test = train_test_split(\n",
    "    X, y, test_size=0.2, random_state=42\n",
    ")\n"
   ]
  },
  {
   "cell_type": "markdown",
   "id": "89124a64",
   "metadata": {},
   "source": [
    "I picked seven features for my model.\n",
    "This includes the new features `Avg_Area_Room_Per_Person` and `Zip_Code`.\n",
    "Then, I split the data into two parts: 80% for training and 20% for testing.\n",
    "I used `random_state=42` so I can get the same result every time I run it."
   ]
  },
  {
   "cell_type": "markdown",
   "id": "4c62d7e9",
   "metadata": {},
   "source": [
    "### Part b (ii): Create the Model"
   ]
  },
  {
   "cell_type": "code",
   "execution_count": 13,
   "id": "f80569ec",
   "metadata": {},
   "outputs": [],
   "source": [
    "# Instantiate the Linear Regression model\n",
    "linear_model = LinearRegression()\n"
   ]
  },
  {
   "cell_type": "markdown",
   "id": "4cbf9827",
   "metadata": {},
   "source": [
    "I made a basic `LinearRegression` model using scikit-learn.\n",
    "This model is my starting point for predicting house prices."
   ]
  },
  {
   "cell_type": "markdown",
   "id": "07739d99",
   "metadata": {},
   "source": [
    "### Part b (iii): Train the Model"
   ]
  },
  {
   "cell_type": "code",
   "execution_count": 14,
   "id": "2af1a521",
   "metadata": {},
   "outputs": [
    {
     "data": {
      "text/html": [
       "<style>#sk-container-id-1 {\n",
       "  /* Definition of color scheme common for light and dark mode */\n",
       "  --sklearn-color-text: black;\n",
       "  --sklearn-color-line: gray;\n",
       "  /* Definition of color scheme for unfitted estimators */\n",
       "  --sklearn-color-unfitted-level-0: #fff5e6;\n",
       "  --sklearn-color-unfitted-level-1: #f6e4d2;\n",
       "  --sklearn-color-unfitted-level-2: #ffe0b3;\n",
       "  --sklearn-color-unfitted-level-3: chocolate;\n",
       "  /* Definition of color scheme for fitted estimators */\n",
       "  --sklearn-color-fitted-level-0: #f0f8ff;\n",
       "  --sklearn-color-fitted-level-1: #d4ebff;\n",
       "  --sklearn-color-fitted-level-2: #b3dbfd;\n",
       "  --sklearn-color-fitted-level-3: cornflowerblue;\n",
       "\n",
       "  /* Specific color for light theme */\n",
       "  --sklearn-color-text-on-default-background: var(--sg-text-color, var(--theme-code-foreground, var(--jp-content-font-color1, black)));\n",
       "  --sklearn-color-background: var(--sg-background-color, var(--theme-background, var(--jp-layout-color0, white)));\n",
       "  --sklearn-color-border-box: var(--sg-text-color, var(--theme-code-foreground, var(--jp-content-font-color1, black)));\n",
       "  --sklearn-color-icon: #696969;\n",
       "\n",
       "  @media (prefers-color-scheme: dark) {\n",
       "    /* Redefinition of color scheme for dark theme */\n",
       "    --sklearn-color-text-on-default-background: var(--sg-text-color, var(--theme-code-foreground, var(--jp-content-font-color1, white)));\n",
       "    --sklearn-color-background: var(--sg-background-color, var(--theme-background, var(--jp-layout-color0, #111)));\n",
       "    --sklearn-color-border-box: var(--sg-text-color, var(--theme-code-foreground, var(--jp-content-font-color1, white)));\n",
       "    --sklearn-color-icon: #878787;\n",
       "  }\n",
       "}\n",
       "\n",
       "#sk-container-id-1 {\n",
       "  color: var(--sklearn-color-text);\n",
       "}\n",
       "\n",
       "#sk-container-id-1 pre {\n",
       "  padding: 0;\n",
       "}\n",
       "\n",
       "#sk-container-id-1 input.sk-hidden--visually {\n",
       "  border: 0;\n",
       "  clip: rect(1px 1px 1px 1px);\n",
       "  clip: rect(1px, 1px, 1px, 1px);\n",
       "  height: 1px;\n",
       "  margin: -1px;\n",
       "  overflow: hidden;\n",
       "  padding: 0;\n",
       "  position: absolute;\n",
       "  width: 1px;\n",
       "}\n",
       "\n",
       "#sk-container-id-1 div.sk-dashed-wrapped {\n",
       "  border: 1px dashed var(--sklearn-color-line);\n",
       "  margin: 0 0.4em 0.5em 0.4em;\n",
       "  box-sizing: border-box;\n",
       "  padding-bottom: 0.4em;\n",
       "  background-color: var(--sklearn-color-background);\n",
       "}\n",
       "\n",
       "#sk-container-id-1 div.sk-container {\n",
       "  /* jupyter's `normalize.less` sets `[hidden] { display: none; }`\n",
       "     but bootstrap.min.css set `[hidden] { display: none !important; }`\n",
       "     so we also need the `!important` here to be able to override the\n",
       "     default hidden behavior on the sphinx rendered scikit-learn.org.\n",
       "     See: https://github.com/scikit-learn/scikit-learn/issues/21755 */\n",
       "  display: inline-block !important;\n",
       "  position: relative;\n",
       "}\n",
       "\n",
       "#sk-container-id-1 div.sk-text-repr-fallback {\n",
       "  display: none;\n",
       "}\n",
       "\n",
       "div.sk-parallel-item,\n",
       "div.sk-serial,\n",
       "div.sk-item {\n",
       "  /* draw centered vertical line to link estimators */\n",
       "  background-image: linear-gradient(var(--sklearn-color-text-on-default-background), var(--sklearn-color-text-on-default-background));\n",
       "  background-size: 2px 100%;\n",
       "  background-repeat: no-repeat;\n",
       "  background-position: center center;\n",
       "}\n",
       "\n",
       "/* Parallel-specific style estimator block */\n",
       "\n",
       "#sk-container-id-1 div.sk-parallel-item::after {\n",
       "  content: \"\";\n",
       "  width: 100%;\n",
       "  border-bottom: 2px solid var(--sklearn-color-text-on-default-background);\n",
       "  flex-grow: 1;\n",
       "}\n",
       "\n",
       "#sk-container-id-1 div.sk-parallel {\n",
       "  display: flex;\n",
       "  align-items: stretch;\n",
       "  justify-content: center;\n",
       "  background-color: var(--sklearn-color-background);\n",
       "  position: relative;\n",
       "}\n",
       "\n",
       "#sk-container-id-1 div.sk-parallel-item {\n",
       "  display: flex;\n",
       "  flex-direction: column;\n",
       "}\n",
       "\n",
       "#sk-container-id-1 div.sk-parallel-item:first-child::after {\n",
       "  align-self: flex-end;\n",
       "  width: 50%;\n",
       "}\n",
       "\n",
       "#sk-container-id-1 div.sk-parallel-item:last-child::after {\n",
       "  align-self: flex-start;\n",
       "  width: 50%;\n",
       "}\n",
       "\n",
       "#sk-container-id-1 div.sk-parallel-item:only-child::after {\n",
       "  width: 0;\n",
       "}\n",
       "\n",
       "/* Serial-specific style estimator block */\n",
       "\n",
       "#sk-container-id-1 div.sk-serial {\n",
       "  display: flex;\n",
       "  flex-direction: column;\n",
       "  align-items: center;\n",
       "  background-color: var(--sklearn-color-background);\n",
       "  padding-right: 1em;\n",
       "  padding-left: 1em;\n",
       "}\n",
       "\n",
       "\n",
       "/* Toggleable style: style used for estimator/Pipeline/ColumnTransformer box that is\n",
       "clickable and can be expanded/collapsed.\n",
       "- Pipeline and ColumnTransformer use this feature and define the default style\n",
       "- Estimators will overwrite some part of the style using the `sk-estimator` class\n",
       "*/\n",
       "\n",
       "/* Pipeline and ColumnTransformer style (default) */\n",
       "\n",
       "#sk-container-id-1 div.sk-toggleable {\n",
       "  /* Default theme specific background. It is overwritten whether we have a\n",
       "  specific estimator or a Pipeline/ColumnTransformer */\n",
       "  background-color: var(--sklearn-color-background);\n",
       "}\n",
       "\n",
       "/* Toggleable label */\n",
       "#sk-container-id-1 label.sk-toggleable__label {\n",
       "  cursor: pointer;\n",
       "  display: block;\n",
       "  width: 100%;\n",
       "  margin-bottom: 0;\n",
       "  padding: 0.5em;\n",
       "  box-sizing: border-box;\n",
       "  text-align: center;\n",
       "}\n",
       "\n",
       "#sk-container-id-1 label.sk-toggleable__label-arrow:before {\n",
       "  /* Arrow on the left of the label */\n",
       "  content: \"▸\";\n",
       "  float: left;\n",
       "  margin-right: 0.25em;\n",
       "  color: var(--sklearn-color-icon);\n",
       "}\n",
       "\n",
       "#sk-container-id-1 label.sk-toggleable__label-arrow:hover:before {\n",
       "  color: var(--sklearn-color-text);\n",
       "}\n",
       "\n",
       "/* Toggleable content - dropdown */\n",
       "\n",
       "#sk-container-id-1 div.sk-toggleable__content {\n",
       "  max-height: 0;\n",
       "  max-width: 0;\n",
       "  overflow: hidden;\n",
       "  text-align: left;\n",
       "  /* unfitted */\n",
       "  background-color: var(--sklearn-color-unfitted-level-0);\n",
       "}\n",
       "\n",
       "#sk-container-id-1 div.sk-toggleable__content.fitted {\n",
       "  /* fitted */\n",
       "  background-color: var(--sklearn-color-fitted-level-0);\n",
       "}\n",
       "\n",
       "#sk-container-id-1 div.sk-toggleable__content pre {\n",
       "  margin: 0.2em;\n",
       "  border-radius: 0.25em;\n",
       "  color: var(--sklearn-color-text);\n",
       "  /* unfitted */\n",
       "  background-color: var(--sklearn-color-unfitted-level-0);\n",
       "}\n",
       "\n",
       "#sk-container-id-1 div.sk-toggleable__content.fitted pre {\n",
       "  /* unfitted */\n",
       "  background-color: var(--sklearn-color-fitted-level-0);\n",
       "}\n",
       "\n",
       "#sk-container-id-1 input.sk-toggleable__control:checked~div.sk-toggleable__content {\n",
       "  /* Expand drop-down */\n",
       "  max-height: 200px;\n",
       "  max-width: 100%;\n",
       "  overflow: auto;\n",
       "}\n",
       "\n",
       "#sk-container-id-1 input.sk-toggleable__control:checked~label.sk-toggleable__label-arrow:before {\n",
       "  content: \"▾\";\n",
       "}\n",
       "\n",
       "/* Pipeline/ColumnTransformer-specific style */\n",
       "\n",
       "#sk-container-id-1 div.sk-label input.sk-toggleable__control:checked~label.sk-toggleable__label {\n",
       "  color: var(--sklearn-color-text);\n",
       "  background-color: var(--sklearn-color-unfitted-level-2);\n",
       "}\n",
       "\n",
       "#sk-container-id-1 div.sk-label.fitted input.sk-toggleable__control:checked~label.sk-toggleable__label {\n",
       "  background-color: var(--sklearn-color-fitted-level-2);\n",
       "}\n",
       "\n",
       "/* Estimator-specific style */\n",
       "\n",
       "/* Colorize estimator box */\n",
       "#sk-container-id-1 div.sk-estimator input.sk-toggleable__control:checked~label.sk-toggleable__label {\n",
       "  /* unfitted */\n",
       "  background-color: var(--sklearn-color-unfitted-level-2);\n",
       "}\n",
       "\n",
       "#sk-container-id-1 div.sk-estimator.fitted input.sk-toggleable__control:checked~label.sk-toggleable__label {\n",
       "  /* fitted */\n",
       "  background-color: var(--sklearn-color-fitted-level-2);\n",
       "}\n",
       "\n",
       "#sk-container-id-1 div.sk-label label.sk-toggleable__label,\n",
       "#sk-container-id-1 div.sk-label label {\n",
       "  /* The background is the default theme color */\n",
       "  color: var(--sklearn-color-text-on-default-background);\n",
       "}\n",
       "\n",
       "/* On hover, darken the color of the background */\n",
       "#sk-container-id-1 div.sk-label:hover label.sk-toggleable__label {\n",
       "  color: var(--sklearn-color-text);\n",
       "  background-color: var(--sklearn-color-unfitted-level-2);\n",
       "}\n",
       "\n",
       "/* Label box, darken color on hover, fitted */\n",
       "#sk-container-id-1 div.sk-label.fitted:hover label.sk-toggleable__label.fitted {\n",
       "  color: var(--sklearn-color-text);\n",
       "  background-color: var(--sklearn-color-fitted-level-2);\n",
       "}\n",
       "\n",
       "/* Estimator label */\n",
       "\n",
       "#sk-container-id-1 div.sk-label label {\n",
       "  font-family: monospace;\n",
       "  font-weight: bold;\n",
       "  display: inline-block;\n",
       "  line-height: 1.2em;\n",
       "}\n",
       "\n",
       "#sk-container-id-1 div.sk-label-container {\n",
       "  text-align: center;\n",
       "}\n",
       "\n",
       "/* Estimator-specific */\n",
       "#sk-container-id-1 div.sk-estimator {\n",
       "  font-family: monospace;\n",
       "  border: 1px dotted var(--sklearn-color-border-box);\n",
       "  border-radius: 0.25em;\n",
       "  box-sizing: border-box;\n",
       "  margin-bottom: 0.5em;\n",
       "  /* unfitted */\n",
       "  background-color: var(--sklearn-color-unfitted-level-0);\n",
       "}\n",
       "\n",
       "#sk-container-id-1 div.sk-estimator.fitted {\n",
       "  /* fitted */\n",
       "  background-color: var(--sklearn-color-fitted-level-0);\n",
       "}\n",
       "\n",
       "/* on hover */\n",
       "#sk-container-id-1 div.sk-estimator:hover {\n",
       "  /* unfitted */\n",
       "  background-color: var(--sklearn-color-unfitted-level-2);\n",
       "}\n",
       "\n",
       "#sk-container-id-1 div.sk-estimator.fitted:hover {\n",
       "  /* fitted */\n",
       "  background-color: var(--sklearn-color-fitted-level-2);\n",
       "}\n",
       "\n",
       "/* Specification for estimator info (e.g. \"i\" and \"?\") */\n",
       "\n",
       "/* Common style for \"i\" and \"?\" */\n",
       "\n",
       ".sk-estimator-doc-link,\n",
       "a:link.sk-estimator-doc-link,\n",
       "a:visited.sk-estimator-doc-link {\n",
       "  float: right;\n",
       "  font-size: smaller;\n",
       "  line-height: 1em;\n",
       "  font-family: monospace;\n",
       "  background-color: var(--sklearn-color-background);\n",
       "  border-radius: 1em;\n",
       "  height: 1em;\n",
       "  width: 1em;\n",
       "  text-decoration: none !important;\n",
       "  margin-left: 1ex;\n",
       "  /* unfitted */\n",
       "  border: var(--sklearn-color-unfitted-level-1) 1pt solid;\n",
       "  color: var(--sklearn-color-unfitted-level-1);\n",
       "}\n",
       "\n",
       ".sk-estimator-doc-link.fitted,\n",
       "a:link.sk-estimator-doc-link.fitted,\n",
       "a:visited.sk-estimator-doc-link.fitted {\n",
       "  /* fitted */\n",
       "  border: var(--sklearn-color-fitted-level-1) 1pt solid;\n",
       "  color: var(--sklearn-color-fitted-level-1);\n",
       "}\n",
       "\n",
       "/* On hover */\n",
       "div.sk-estimator:hover .sk-estimator-doc-link:hover,\n",
       ".sk-estimator-doc-link:hover,\n",
       "div.sk-label-container:hover .sk-estimator-doc-link:hover,\n",
       ".sk-estimator-doc-link:hover {\n",
       "  /* unfitted */\n",
       "  background-color: var(--sklearn-color-unfitted-level-3);\n",
       "  color: var(--sklearn-color-background);\n",
       "  text-decoration: none;\n",
       "}\n",
       "\n",
       "div.sk-estimator.fitted:hover .sk-estimator-doc-link.fitted:hover,\n",
       ".sk-estimator-doc-link.fitted:hover,\n",
       "div.sk-label-container:hover .sk-estimator-doc-link.fitted:hover,\n",
       ".sk-estimator-doc-link.fitted:hover {\n",
       "  /* fitted */\n",
       "  background-color: var(--sklearn-color-fitted-level-3);\n",
       "  color: var(--sklearn-color-background);\n",
       "  text-decoration: none;\n",
       "}\n",
       "\n",
       "/* Span, style for the box shown on hovering the info icon */\n",
       ".sk-estimator-doc-link span {\n",
       "  display: none;\n",
       "  z-index: 9999;\n",
       "  position: relative;\n",
       "  font-weight: normal;\n",
       "  right: .2ex;\n",
       "  padding: .5ex;\n",
       "  margin: .5ex;\n",
       "  width: min-content;\n",
       "  min-width: 20ex;\n",
       "  max-width: 50ex;\n",
       "  color: var(--sklearn-color-text);\n",
       "  box-shadow: 2pt 2pt 4pt #999;\n",
       "  /* unfitted */\n",
       "  background: var(--sklearn-color-unfitted-level-0);\n",
       "  border: .5pt solid var(--sklearn-color-unfitted-level-3);\n",
       "}\n",
       "\n",
       ".sk-estimator-doc-link.fitted span {\n",
       "  /* fitted */\n",
       "  background: var(--sklearn-color-fitted-level-0);\n",
       "  border: var(--sklearn-color-fitted-level-3);\n",
       "}\n",
       "\n",
       ".sk-estimator-doc-link:hover span {\n",
       "  display: block;\n",
       "}\n",
       "\n",
       "/* \"?\"-specific style due to the `<a>` HTML tag */\n",
       "\n",
       "#sk-container-id-1 a.estimator_doc_link {\n",
       "  float: right;\n",
       "  font-size: 1rem;\n",
       "  line-height: 1em;\n",
       "  font-family: monospace;\n",
       "  background-color: var(--sklearn-color-background);\n",
       "  border-radius: 1rem;\n",
       "  height: 1rem;\n",
       "  width: 1rem;\n",
       "  text-decoration: none;\n",
       "  /* unfitted */\n",
       "  color: var(--sklearn-color-unfitted-level-1);\n",
       "  border: var(--sklearn-color-unfitted-level-1) 1pt solid;\n",
       "}\n",
       "\n",
       "#sk-container-id-1 a.estimator_doc_link.fitted {\n",
       "  /* fitted */\n",
       "  border: var(--sklearn-color-fitted-level-1) 1pt solid;\n",
       "  color: var(--sklearn-color-fitted-level-1);\n",
       "}\n",
       "\n",
       "/* On hover */\n",
       "#sk-container-id-1 a.estimator_doc_link:hover {\n",
       "  /* unfitted */\n",
       "  background-color: var(--sklearn-color-unfitted-level-3);\n",
       "  color: var(--sklearn-color-background);\n",
       "  text-decoration: none;\n",
       "}\n",
       "\n",
       "#sk-container-id-1 a.estimator_doc_link.fitted:hover {\n",
       "  /* fitted */\n",
       "  background-color: var(--sklearn-color-fitted-level-3);\n",
       "}\n",
       "</style><div id=\"sk-container-id-1\" class=\"sk-top-container\"><div class=\"sk-text-repr-fallback\"><pre>LinearRegression()</pre><b>In a Jupyter environment, please rerun this cell to show the HTML representation or trust the notebook. <br />On GitHub, the HTML representation is unable to render, please try loading this page with nbviewer.org.</b></div><div class=\"sk-container\" hidden><div class=\"sk-item\"><div class=\"sk-estimator fitted sk-toggleable\"><input class=\"sk-toggleable__control sk-hidden--visually\" id=\"sk-estimator-id-1\" type=\"checkbox\" checked><label for=\"sk-estimator-id-1\" class=\"sk-toggleable__label fitted sk-toggleable__label-arrow fitted\">&nbsp;&nbsp;LinearRegression<a class=\"sk-estimator-doc-link fitted\" rel=\"noreferrer\" target=\"_blank\" href=\"https://scikit-learn.org/1.4/modules/generated/sklearn.linear_model.LinearRegression.html\">?<span>Documentation for LinearRegression</span></a><span class=\"sk-estimator-doc-link fitted\">i<span>Fitted</span></span></label><div class=\"sk-toggleable__content fitted\"><pre>LinearRegression()</pre></div> </div></div></div></div>"
      ],
      "text/plain": [
       "LinearRegression()"
      ]
     },
     "execution_count": 14,
     "metadata": {},
     "output_type": "execute_result"
    }
   ],
   "source": [
    "# Fit the model to the training data\n",
    "linear_model.fit(X_train, y_train)\n"
   ]
  },
  {
   "cell_type": "markdown",
   "id": "816ea1c9",
   "metadata": {},
   "source": [
    "I trained the model using the training data.\n",
    "The model learned how the features are related to the house `Price`."
   ]
  },
  {
   "cell_type": "markdown",
   "id": "4557aa5c",
   "metadata": {},
   "source": [
    "### Part b (iv): Predict on the Test Set"
   ]
  },
  {
   "cell_type": "code",
   "execution_count": 15,
   "id": "36386ad3",
   "metadata": {},
   "outputs": [
    {
     "data": {
      "text/plain": [
       "array([2022574.75338087, 1052336.54036221, 1809518.45013548,\n",
       "        809263.16124465, 1309856.84167958])"
      ]
     },
     "execution_count": 15,
     "metadata": {},
     "output_type": "execute_result"
    }
   ],
   "source": [
    "# Generate predictions on the test set\n",
    "y_pred = linear_model.predict(X_test)\n",
    "\n",
    "# Display first 5 predictions\n",
    "y_pred[:5]\n"
   ]
  },
  {
   "cell_type": "markdown",
   "id": "25a5cb4b",
   "metadata": {},
   "source": [
    "- I used my trained model to predict house prices with the test data.\n",
    "- Later, I will check if the predictions are good by using some evaluation scores."
   ]
  },
  {
   "cell_type": "markdown",
   "id": "2a5c8bcd",
   "metadata": {},
   "source": [
    "## Regularization"
   ]
  },
  {
   "cell_type": "markdown",
   "id": "89ac93de",
   "metadata": {},
   "source": [
    "### Part c (i): Train Ridge and Lasso Regression Models"
   ]
  },
  {
   "cell_type": "code",
   "execution_count": 16,
   "id": "1c09339e",
   "metadata": {},
   "outputs": [],
   "source": [
    "# Try three alpha values for both Ridge and Lasso\n",
    "alphas = [0.01, 1, 100]\n",
    "\n",
    "# Train Ridge models\n",
    "ridge_models = [Ridge(alpha=a) for a in alphas]\n",
    "for model in ridge_models:\n",
    "    model.fit(X_train, y_train)\n",
    "\n",
    "# Train Lasso models (with high max_iter to ensure convergence)\n",
    "lasso_models = [Lasso(alpha=a, max_iter=10000) for a in alphas]\n",
    "for model in lasso_models:\n",
    "    model.fit(X_train, y_train)\n"
   ]
  },
  {
   "cell_type": "markdown",
   "id": "675b11bf",
   "metadata": {},
   "source": [
    "- I used Ridge and Lasso regression to see how regularization changes the model.\n",
    "- I tried three different alpha values: 0.01, 1, and 100."
   ]
  },
  {
   "cell_type": "markdown",
   "id": "8f679cdc",
   "metadata": {},
   "source": [
    "### Part c (ii): Compare Coefficients and Explain the Role of α"
   ]
  },
  {
   "cell_type": "code",
   "execution_count": 17,
   "id": "26b5468b",
   "metadata": {},
   "outputs": [
    {
     "data": {
      "text/html": [
       "<div>\n",
       "<style scoped>\n",
       "    .dataframe tbody tr th:only-of-type {\n",
       "        vertical-align: middle;\n",
       "    }\n",
       "\n",
       "    .dataframe tbody tr th {\n",
       "        vertical-align: top;\n",
       "    }\n",
       "\n",
       "    .dataframe thead th {\n",
       "        text-align: right;\n",
       "    }\n",
       "</style>\n",
       "<table border=\"1\" class=\"dataframe\">\n",
       "  <thead>\n",
       "    <tr style=\"text-align: right;\">\n",
       "      <th></th>\n",
       "      <th>Feature</th>\n",
       "      <th>Linear</th>\n",
       "      <th>Ridge (alpha=0.01)</th>\n",
       "      <th>Ridge (alpha=1)</th>\n",
       "      <th>Ridge (alpha=100)</th>\n",
       "      <th>Lasso (alpha=0.01)</th>\n",
       "      <th>Lasso (alpha=1)</th>\n",
       "      <th>Lasso (alpha=100)</th>\n",
       "    </tr>\n",
       "  </thead>\n",
       "  <tbody>\n",
       "    <tr>\n",
       "      <th>0</th>\n",
       "      <td>Avg. Area Income</td>\n",
       "      <td>21.511582</td>\n",
       "      <td>21.511581</td>\n",
       "      <td>21.511466</td>\n",
       "      <td>21.502924</td>\n",
       "      <td>21.511582</td>\n",
       "      <td>21.511578</td>\n",
       "      <td>21.511202</td>\n",
       "    </tr>\n",
       "    <tr>\n",
       "      <th>1</th>\n",
       "      <td>Avg. Area House Age</td>\n",
       "      <td>164602.268225</td>\n",
       "      <td>164601.837180</td>\n",
       "      <td>164559.177759</td>\n",
       "      <td>160414.935931</td>\n",
       "      <td>164602.257708</td>\n",
       "      <td>164601.216511</td>\n",
       "      <td>164497.096295</td>\n",
       "    </tr>\n",
       "    <tr>\n",
       "      <th>2</th>\n",
       "      <td>Avg. Area Number of Rooms</td>\n",
       "      <td>120815.184025</td>\n",
       "      <td>120813.977493</td>\n",
       "      <td>120695.516561</td>\n",
       "      <td>113555.376743</td>\n",
       "      <td>120815.105663</td>\n",
       "      <td>120807.341809</td>\n",
       "      <td>120030.846684</td>\n",
       "    </tr>\n",
       "    <tr>\n",
       "      <th>3</th>\n",
       "      <td>Avg. Area Number of Bedrooms</td>\n",
       "      <td>938.654699</td>\n",
       "      <td>940.264852</td>\n",
       "      <td>1097.966147</td>\n",
       "      <td>8801.068538</td>\n",
       "      <td>938.777068</td>\n",
       "      <td>950.901354</td>\n",
       "      <td>2163.510386</td>\n",
       "    </tr>\n",
       "    <tr>\n",
       "      <th>4</th>\n",
       "      <td>Area Population</td>\n",
       "      <td>15.225525</td>\n",
       "      <td>15.225525</td>\n",
       "      <td>15.225502</td>\n",
       "      <td>15.219272</td>\n",
       "      <td>15.225525</td>\n",
       "      <td>15.225528</td>\n",
       "      <td>15.225837</td>\n",
       "    </tr>\n",
       "    <tr>\n",
       "      <th>5</th>\n",
       "      <td>Avg_Area_Room_Per_Person</td>\n",
       "      <td>-3448.067879</td>\n",
       "      <td>-3445.033471</td>\n",
       "      <td>-3148.063148</td>\n",
       "      <td>10329.280269</td>\n",
       "      <td>-3447.806279</td>\n",
       "      <td>-3421.889405</td>\n",
       "      <td>-829.864005</td>\n",
       "    </tr>\n",
       "    <tr>\n",
       "      <th>6</th>\n",
       "      <td>Zip_Code</td>\n",
       "      <td>0.052468</td>\n",
       "      <td>0.052468</td>\n",
       "      <td>0.052473</td>\n",
       "      <td>0.051257</td>\n",
       "      <td>0.052468</td>\n",
       "      <td>0.052471</td>\n",
       "      <td>0.052731</td>\n",
       "    </tr>\n",
       "  </tbody>\n",
       "</table>\n",
       "</div>"
      ],
      "text/plain": [
       "                        Feature         Linear  Ridge (alpha=0.01)  \\\n",
       "0              Avg. Area Income      21.511582           21.511581   \n",
       "1           Avg. Area House Age  164602.268225       164601.837180   \n",
       "2     Avg. Area Number of Rooms  120815.184025       120813.977493   \n",
       "3  Avg. Area Number of Bedrooms     938.654699          940.264852   \n",
       "4               Area Population      15.225525           15.225525   \n",
       "5      Avg_Area_Room_Per_Person   -3448.067879        -3445.033471   \n",
       "6                      Zip_Code       0.052468            0.052468   \n",
       "\n",
       "   Ridge (alpha=1)  Ridge (alpha=100)  Lasso (alpha=0.01)  Lasso (alpha=1)  \\\n",
       "0        21.511466          21.502924           21.511582        21.511578   \n",
       "1    164559.177759      160414.935931       164602.257708    164601.216511   \n",
       "2    120695.516561      113555.376743       120815.105663    120807.341809   \n",
       "3      1097.966147        8801.068538          938.777068       950.901354   \n",
       "4        15.225502          15.219272           15.225525        15.225528   \n",
       "5     -3148.063148       10329.280269        -3447.806279     -3421.889405   \n",
       "6         0.052473           0.051257            0.052468         0.052471   \n",
       "\n",
       "   Lasso (alpha=100)  \n",
       "0          21.511202  \n",
       "1      164497.096295  \n",
       "2      120030.846684  \n",
       "3        2163.510386  \n",
       "4          15.225837  \n",
       "5        -829.864005  \n",
       "6           0.052731  "
      ]
     },
     "execution_count": 17,
     "metadata": {},
     "output_type": "execute_result"
    }
   ],
   "source": [
    "# Combine coefficients for comparison\n",
    "coefficients_df = pd.DataFrame({\n",
    "    'Feature': X_train.columns,\n",
    "    'Linear': linear_model.coef_,\n",
    "    'Ridge (alpha=0.01)': ridge_models[0].coef_,\n",
    "    'Ridge (alpha=1)': ridge_models[1].coef_,\n",
    "    'Ridge (alpha=100)': ridge_models[2].coef_,\n",
    "    'Lasso (alpha=0.01)': lasso_models[0].coef_,\n",
    "    'Lasso (alpha=1)': lasso_models[1].coef_,\n",
    "    'Lasso (alpha=100)': lasso_models[2].coef_,\n",
    "})\n",
    "\n",
    "coefficients_df\n"
   ]
  },
  {
   "cell_type": "markdown",
   "id": "75f5e18f",
   "metadata": {},
   "source": [
    "I learned that the **alpha** value controls how much we limit the model.\n",
    "\n",
    "- When **alpha is small** (like `0.01`), the model works almost like normal linear regression.\n",
    "- When **alpha is big** (like `100`), it makes the model simpler by shrinking the coefficients.\n",
    "\n",
    "I also saw the difference between **Ridge** and **Lasso**:\n",
    "\n",
    "- **Ridge** makes the coefficient values smaller, but it does **not** make them zero.\n",
    "- **Lasso** can make some coefficients exactly **zero**, so it helps the model pick only the important features."
   ]
  },
  {
   "cell_type": "markdown",
   "id": "8450c88c",
   "metadata": {},
   "source": [
    "### Part c (iii): Interpretation of Coefficient Differences"
   ]
  },
  {
   "cell_type": "markdown",
   "id": "6f3706ce",
   "metadata": {},
   "source": [
    "After looking at the coefficients from each model, I learned a few things:\n",
    "\n",
    "- All models show similar results for the main features.\n",
    "- When **alpha is large** (like `100`), **Ridge** makes the coefficients smaller, but still keeps all the features.\n",
    "- **Lasso** with alpha = `100` makes some features almost zero.\n",
    "\n",
    "This shows me that **Lasso is good for choosing important features**.  \n",
    "If some features are not helpful, Lasso can remove them by setting their value to zero.\n"
   ]
  },
  {
   "cell_type": "markdown",
   "id": "cf07f064",
   "metadata": {},
   "source": [
    "## Model Evaluation"
   ]
  },
  {
   "cell_type": "markdown",
   "id": "88d8398e",
   "metadata": {},
   "source": [
    "### Part d (i) and (ii): Evaluate All Models on the Test Set"
   ]
  },
  {
   "cell_type": "code",
   "execution_count": 18,
   "id": "98553ec1",
   "metadata": {},
   "outputs": [
    {
     "data": {
      "text/html": [
       "<div>\n",
       "<style scoped>\n",
       "    .dataframe tbody tr th:only-of-type {\n",
       "        vertical-align: middle;\n",
       "    }\n",
       "\n",
       "    .dataframe tbody tr th {\n",
       "        vertical-align: top;\n",
       "    }\n",
       "\n",
       "    .dataframe thead th {\n",
       "        text-align: right;\n",
       "    }\n",
       "</style>\n",
       "<table border=\"1\" class=\"dataframe\">\n",
       "  <thead>\n",
       "    <tr style=\"text-align: right;\">\n",
       "      <th></th>\n",
       "      <th>MAE</th>\n",
       "      <th>MSE</th>\n",
       "      <th>RMSE</th>\n",
       "      <th>R²</th>\n",
       "    </tr>\n",
       "  </thead>\n",
       "  <tbody>\n",
       "    <tr>\n",
       "      <th>Linear</th>\n",
       "      <td>82793.645520</td>\n",
       "      <td>1.073238e+10</td>\n",
       "      <td>103597.182844</td>\n",
       "      <td>0.913217</td>\n",
       "    </tr>\n",
       "    <tr>\n",
       "      <th>Ridge (α=0.01)</th>\n",
       "      <td>82793.681340</td>\n",
       "      <td>1.073238e+10</td>\n",
       "      <td>103597.222989</td>\n",
       "      <td>0.913217</td>\n",
       "    </tr>\n",
       "    <tr>\n",
       "      <th>Ridge (α=1)</th>\n",
       "      <td>82797.219605</td>\n",
       "      <td>1.073321e+10</td>\n",
       "      <td>103601.205462</td>\n",
       "      <td>0.913210</td>\n",
       "    </tr>\n",
       "    <tr>\n",
       "      <th>Ridge (α=100)</th>\n",
       "      <td>83214.837330</td>\n",
       "      <td>1.082808e+10</td>\n",
       "      <td>104058.071045</td>\n",
       "      <td>0.912443</td>\n",
       "    </tr>\n",
       "    <tr>\n",
       "      <th>Lasso (α=0.01)</th>\n",
       "      <td>82793.646141</td>\n",
       "      <td>1.073238e+10</td>\n",
       "      <td>103597.184294</td>\n",
       "      <td>0.913217</td>\n",
       "    </tr>\n",
       "    <tr>\n",
       "      <th>Lasso (α=1)</th>\n",
       "      <td>82793.707739</td>\n",
       "      <td>1.073241e+10</td>\n",
       "      <td>103597.328019</td>\n",
       "      <td>0.913217</td>\n",
       "    </tr>\n",
       "    <tr>\n",
       "      <th>Lasso (α=100)</th>\n",
       "      <td>82800.561779</td>\n",
       "      <td>1.073561e+10</td>\n",
       "      <td>103612.812182</td>\n",
       "      <td>0.913191</td>\n",
       "    </tr>\n",
       "  </tbody>\n",
       "</table>\n",
       "</div>"
      ],
      "text/plain": [
       "                         MAE           MSE           RMSE        R²\n",
       "Linear          82793.645520  1.073238e+10  103597.182844  0.913217\n",
       "Ridge (α=0.01)  82793.681340  1.073238e+10  103597.222989  0.913217\n",
       "Ridge (α=1)     82797.219605  1.073321e+10  103601.205462  0.913210\n",
       "Ridge (α=100)   83214.837330  1.082808e+10  104058.071045  0.912443\n",
       "Lasso (α=0.01)  82793.646141  1.073238e+10  103597.184294  0.913217\n",
       "Lasso (α=1)     82793.707739  1.073241e+10  103597.328019  0.913217\n",
       "Lasso (α=100)   82800.561779  1.073561e+10  103612.812182  0.913191"
      ]
     },
     "execution_count": 18,
     "metadata": {},
     "output_type": "execute_result"
    }
   ],
   "source": [
    "# Define evaluation function\n",
    "def evaluate_model(model, X_test, y_test):\n",
    "    predictions = model.predict(X_test)\n",
    "    mae = mean_absolute_error(y_test, predictions)\n",
    "    mse = mean_squared_error(y_test, predictions)\n",
    "    rmse = np.sqrt(mse)\n",
    "    r2 = r2_score(y_test, predictions)\n",
    "    return [mae, mse, rmse, r2]\n",
    "\n",
    "# Apply to all models\n",
    "model_names = [\n",
    "    'Linear', 'Ridge (α=0.01)', 'Ridge (α=1)', 'Ridge (α=100)',\n",
    "    'Lasso (α=0.01)', 'Lasso (α=1)', 'Lasso (α=100)'\n",
    "]\n",
    "models = [linear_model] + ridge_models + lasso_models\n",
    "\n",
    "evaluation_results = [evaluate_model(m, X_test, y_test) for m in models]\n",
    "\n",
    "# Organize into DataFrame\n",
    "metrics_df = pd.DataFrame(evaluation_results, columns=['MAE', 'MSE', 'RMSE', 'R²'], index=model_names)\n",
    "metrics_df\n"
   ]
  },
  {
   "cell_type": "markdown",
   "id": "9dd73920",
   "metadata": {},
   "source": [
    "I tested all my models on the test data using four scores:\n",
    "\n",
    "- **MAE (Mean Absolute Error)**: shows the average mistake.\n",
    "- **MSE (Mean Squared Error)**: gives more weight to big mistakes.\n",
    "- **RMSE (Root Mean Squared Error)**: similar to MSE but easier to understand.\n",
    "- **R² (R-squared)**: tells me how well the model explains the prices.\n",
    "\n",
    "From the results table, I saw that:\n",
    "\n",
    "- The basic linear model and Ridge/Lasso (with α = 0.01 or 1) work almost the same.\n",
    "- But when α = 100, Ridge did worse. The model became too simple and lost accuracy.\n",
    "\n",
    "So, I think small alpha values work best for this dataset.\n"
   ]
  },
  {
   "cell_type": "markdown",
   "id": "66b64893",
   "metadata": {},
   "source": [
    "### Part d (iii): Interpretation of Metrics"
   ]
  },
  {
   "cell_type": "markdown",
   "id": "77e87f1c",
   "metadata": {},
   "source": [
    "Here is what I learned from the scores:\n",
    "\n",
    "- A lower **MAE** or **RMSE** means my predictions are more accurate.\n",
    "- A lower **MSE** helps me see if there are some big mistakes.\n",
    "- A higher **R²** means the model explains the house prices better.\n",
    "\n",
    "So, I want a model with **low errors** (MAE, MSE, RMSE) and a **high R² score**.  \n",
    "That kind of model will give me the best and most reliable results.\n"
   ]
  },
  {
   "cell_type": "code",
   "execution_count": 19,
   "id": "d4122efe",
   "metadata": {},
   "outputs": [
    {
     "data": {
      "image/png": "[encoded data removed]",
      "text/plain": [
       "<Figure size 800x500 with 1 Axes>"
      ]
     },
     "metadata": {},
     "output_type": "display_data"
    }
   ],
   "source": [
    "# Residuals = true - predicted\n",
    "residuals = y_test - y_pred\n",
    "\n",
    "plt.figure(figsize=(8, 5))\n",
    "sns.scatterplot(x=y_pred, y=residuals)\n",
    "plt.axhline(y=0, color='red', linestyle='--')\n",
    "plt.title('Residual Plot', fontsize=16, fontweight='bold')\n",
    "plt.xlabel('Predicted Prices')\n",
    "plt.ylabel('Residuals')\n",
    "plt.show()\n"
   ]
  },
  {
   "cell_type": "markdown",
   "id": "bd5443d7",
   "metadata": {},
   "source": [
    "This is the residual plot of my linear regression model.\n",
    "\n",
    "- The blue dots are the **residuals** (real price - predicted price).\n",
    "- The red line shows **zero error**.\n",
    "- Most dots are close to the red line and spread **evenly**.\n",
    "\n",
    "This means:\n",
    "\n",
    "- The model does not have clear bias.  \n",
    "- There is **no big pattern**, like a curve or funnel.  \n",
    "- The errors look **random**, which is a good sign.\n",
    "\n",
    "So I think my model is doing a good job. It makes predictions that are close to the real prices.\n"
   ]
  },
  {
   "cell_type": "markdown",
   "id": "518e933d",
   "metadata": {},
   "source": [
    "### Part d (iv): Cross-Validation"
   ]
  },
  {
   "cell_type": "code",
   "execution_count": 20,
   "id": "17bb7aa0",
   "metadata": {},
   "outputs": [
    {
     "data": {
      "text/plain": [
       "(0.9155499069224062, 0.003059899585969233)"
      ]
     },
     "execution_count": 20,
     "metadata": {},
     "output_type": "execute_result"
    }
   ],
   "source": [
    "# Perform 5-fold CV on best-performing model (Linear)\n",
    "cv_scores = cross_val_score(linear_model, X, y, cv=5, scoring='r2')\n",
    "cv_mean = cv_scores.mean()\n",
    "cv_std = cv_scores.std()\n",
    "\n",
    "cv_mean, cv_std\n"
   ]
  },
  {
   "cell_type": "markdown",
   "id": "1d96b0a2",
   "metadata": {},
   "source": [
    "To make sure my model works well on different data, I used **5-fold cross-validation**.\n",
    "\n",
    "- The **average R² score** from the 5 tests was `0.916`.\n",
    "- The **standard deviation** was `0.003`, which is very small.\n",
    "\n",
    "This tells me that my model is stable.  \n",
    "It gives good results even when the data changes a little.\n",
    "\n",
    "I think cross-validation is better than just one train-test split,  \n",
    "because it checks the model on many different parts of the data.\n"
   ]
  },
  {
   "cell_type": "markdown",
   "id": "d07c803e",
   "metadata": {},
   "source": [
    "## Coefficients and Intercept"
   ]
  },
  {
   "cell_type": "markdown",
   "id": "a4f5d6bd",
   "metadata": {},
   "source": [
    "### Part e (i): Display Coefficients and Intercept"
   ]
  },
  {
   "cell_type": "code",
   "execution_count": 21,
   "id": "e33048e0",
   "metadata": {},
   "outputs": [
    {
     "data": {
      "text/plain": [
       "(                        Feature    Coefficient\n",
       " 0              Avg. Area Income      21.511582\n",
       " 1           Avg. Area House Age  164602.268225\n",
       " 2     Avg. Area Number of Rooms  120815.184025\n",
       " 3  Avg. Area Number of Bedrooms     938.654699\n",
       " 4               Area Population      15.225525\n",
       " 5      Avg_Area_Room_Per_Person   -3448.067879\n",
       " 6                      Zip_Code       0.052468,\n",
       " -2622853.182066202)"
      ]
     },
     "execution_count": 21,
     "metadata": {},
     "output_type": "execute_result"
    }
   ],
   "source": [
    "# Show coefficients of the linear regression model\n",
    "linear_coefficients = pd.DataFrame({\n",
    "    'Feature': X_train.columns,\n",
    "    'Coefficient': linear_model.coef_\n",
    "})\n",
    "\n",
    "# Show intercept\n",
    "linear_intercept = linear_model.intercept_\n",
    "\n",
    "linear_coefficients, linear_intercept\n"
   ]
  },
  {
   "cell_type": "markdown",
   "id": "74e8b847",
   "metadata": {},
   "source": [
    "I printed the coefficients of each feature and the intercept of my linear regression model.\n",
    "\n",
    "The intercept is **-2,622,853**, which means if all features were zero, the model would predict a negative price.  \n",
    "This value has no real meaning on its own, but it helps adjust the baseline of predictions.\n"
   ]
  },
  {
   "cell_type": "markdown",
   "id": "5847ba76",
   "metadata": {},
   "source": [
    "### Part e (ii): Interpret the Coefficients"
   ]
  },
  {
   "cell_type": "markdown",
   "id": "b0e27de9",
   "metadata": {},
   "source": [
    "Each coefficient shows how much the predicted price changes when one feature increases by one unit, while other features stay the same.\n",
    "\n",
    "Here are some examples from my model:\n",
    "\n",
    "- `Avg. Area Income`: For every 1 dollar increase in income, the housing price goes up by about **$21.51**.\n",
    "- `Avg. Area House Age`: Older houses increase the price. For every extra year, the price goes up by about **$164,602**.\n",
    "- `Avg. Area Number of Rooms`: More rooms strongly increase price. Each extra room adds about **$120,815**.\n",
    "- `Avg. Area Number of Bedrooms`: Each extra bedroom adds about **$939**, which is small compared to rooms.\n",
    "- `Area Population`: A larger population adds a small increase. Each extra person adds **$15.23**.\n",
    "- `Avg_Area_Room_Per_Person`: This value is **negative**. If there are more rooms per person, the price slightly goes **down** by **$3,448**.\n",
    "- `Zip_Code`: This coefficient is close to **0**, meaning zip code has almost no effect in this form.\n",
    "\n",
    "In summary, features like income, number of rooms, and house age have the biggest positive effect on price.\n"
   ]
  }
 ],
 "metadata": {
  "kernelspec": {
   "display_name": "base",
   "language": "python",
   "name": "python3"
  },
  "language_info": {
   "codemirror_mode": {
    "name": "ipython",
    "version": 3
   },
   "file_extension": ".py",
   "mimetype": "text/x-python",
   "name": "python",
   "nbconvert_exporter": "python",
   "pygments_lexer": "ipython3",
   "version": "3.12.2"
  }
 },
 "nbformat": 4,
 "nbformat_minor": 5
}
