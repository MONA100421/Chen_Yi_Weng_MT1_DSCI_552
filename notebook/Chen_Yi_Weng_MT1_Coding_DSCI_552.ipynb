{
 "cells": [
  {
   "cell_type": "markdown",
   "id": "67eb6441",
   "metadata": {},
   "source": [
    "# Programming Question: Predicting Housing Prices with Linear Regression"
   ]
  },
  {
   "cell_type": "markdown",
   "id": "be4bcf84",
   "metadata": {},
   "source": [
    "**Name:** Chen Yi Weng  \n",
    "**USC ID:** 3769237784"
   ]
  },
  {
   "cell_type": "markdown",
   "id": "fd341e31",
   "metadata": {},
   "source": [
    "## Data Exploration and Pre-processing"
   ]
  },
  {
   "cell_type": "code",
   "execution_count": 1,
   "id": "cc92395d",
   "metadata": {},
   "outputs": [],
   "source": [
    "# Import all required libraries\n",
    "import pandas as pd\n",
    "import numpy as np\n",
    "import seaborn as sns\n",
    "import matplotlib.pyplot as plt\n",
    "\n",
    "from sklearn.model_selection import train_test_split, cross_val_score\n",
    "from sklearn.linear_model import LinearRegression, Ridge, Lasso\n",
    "from sklearn.metrics import mean_absolute_error, mean_squared_error, r2_score, make_scorer\n"
   ]
  },
  {
   "cell_type": "markdown",
   "id": "e8e75021",
   "metadata": {},
   "source": [
    "### Part a (i): Load the Dataset"
   ]
  },
  {
   "cell_type": "code",
   "execution_count": null,
   "id": "126ddce3",
   "metadata": {},
   "outputs": [
    {
     "ename": "FileNotFoundError",
     "evalue": "[Errno 2] No such file or directory: 'USA_Housing.csv'",
     "output_type": "error",
     "traceback": [
      "\u001b[0;31m---------------------------------------------------------------------------\u001b[0m",
      "\u001b[0;31mFileNotFoundError\u001b[0m                         Traceback (most recent call last)",
      "Cell \u001b[0;32mIn[2], line 1\u001b[0m\n\u001b[0;32m----> 1\u001b[0m housing_df \u001b[38;5;241m=\u001b[39m \u001b[43mpd\u001b[49m\u001b[38;5;241;43m.\u001b[39;49m\u001b[43mread_csv\u001b[49m\u001b[43m(\u001b[49m\u001b[38;5;124;43m\"\u001b[39;49m\u001b[38;5;124;43mUSA_Housing.csv\u001b[39;49m\u001b[38;5;124;43m\"\u001b[39;49m\u001b[43m)\u001b[49m\n",
      "File \u001b[0;32m/opt/anaconda3/lib/python3.12/site-packages/pandas/io/parsers/readers.py:1026\u001b[0m, in \u001b[0;36mread_csv\u001b[0;34m(filepath_or_buffer, sep, delimiter, header, names, index_col, usecols, dtype, engine, converters, true_values, false_values, skipinitialspace, skiprows, skipfooter, nrows, na_values, keep_default_na, na_filter, verbose, skip_blank_lines, parse_dates, infer_datetime_format, keep_date_col, date_parser, date_format, dayfirst, cache_dates, iterator, chunksize, compression, thousands, decimal, lineterminator, quotechar, quoting, doublequote, escapechar, comment, encoding, encoding_errors, dialect, on_bad_lines, delim_whitespace, low_memory, memory_map, float_precision, storage_options, dtype_backend)\u001b[0m\n\u001b[1;32m   1013\u001b[0m kwds_defaults \u001b[38;5;241m=\u001b[39m _refine_defaults_read(\n\u001b[1;32m   1014\u001b[0m     dialect,\n\u001b[1;32m   1015\u001b[0m     delimiter,\n\u001b[0;32m   (...)\u001b[0m\n\u001b[1;32m   1022\u001b[0m     dtype_backend\u001b[38;5;241m=\u001b[39mdtype_backend,\n\u001b[1;32m   1023\u001b[0m )\n\u001b[1;32m   1024\u001b[0m kwds\u001b[38;5;241m.\u001b[39mupdate(kwds_defaults)\n\u001b[0;32m-> 1026\u001b[0m \u001b[38;5;28;01mreturn\u001b[39;00m \u001b[43m_read\u001b[49m\u001b[43m(\u001b[49m\u001b[43mfilepath_or_buffer\u001b[49m\u001b[43m,\u001b[49m\u001b[43m \u001b[49m\u001b[43mkwds\u001b[49m\u001b[43m)\u001b[49m\n",
      "File \u001b[0;32m/opt/anaconda3/lib/python3.12/site-packages/pandas/io/parsers/readers.py:620\u001b[0m, in \u001b[0;36m_read\u001b[0;34m(filepath_or_buffer, kwds)\u001b[0m\n\u001b[1;32m    617\u001b[0m _validate_names(kwds\u001b[38;5;241m.\u001b[39mget(\u001b[38;5;124m\"\u001b[39m\u001b[38;5;124mnames\u001b[39m\u001b[38;5;124m\"\u001b[39m, \u001b[38;5;28;01mNone\u001b[39;00m))\n\u001b[1;32m    619\u001b[0m \u001b[38;5;66;03m# Create the parser.\u001b[39;00m\n\u001b[0;32m--> 620\u001b[0m parser \u001b[38;5;241m=\u001b[39m \u001b[43mTextFileReader\u001b[49m\u001b[43m(\u001b[49m\u001b[43mfilepath_or_buffer\u001b[49m\u001b[43m,\u001b[49m\u001b[43m \u001b[49m\u001b[38;5;241;43m*\u001b[39;49m\u001b[38;5;241;43m*\u001b[39;49m\u001b[43mkwds\u001b[49m\u001b[43m)\u001b[49m\n\u001b[1;32m    622\u001b[0m \u001b[38;5;28;01mif\u001b[39;00m chunksize \u001b[38;5;129;01mor\u001b[39;00m iterator:\n\u001b[1;32m    623\u001b[0m     \u001b[38;5;28;01mreturn\u001b[39;00m parser\n",
      "File \u001b[0;32m/opt/anaconda3/lib/python3.12/site-packages/pandas/io/parsers/readers.py:1620\u001b[0m, in \u001b[0;36mTextFileReader.__init__\u001b[0;34m(self, f, engine, **kwds)\u001b[0m\n\u001b[1;32m   1617\u001b[0m     \u001b[38;5;28mself\u001b[39m\u001b[38;5;241m.\u001b[39moptions[\u001b[38;5;124m\"\u001b[39m\u001b[38;5;124mhas_index_names\u001b[39m\u001b[38;5;124m\"\u001b[39m] \u001b[38;5;241m=\u001b[39m kwds[\u001b[38;5;124m\"\u001b[39m\u001b[38;5;124mhas_index_names\u001b[39m\u001b[38;5;124m\"\u001b[39m]\n\u001b[1;32m   1619\u001b[0m \u001b[38;5;28mself\u001b[39m\u001b[38;5;241m.\u001b[39mhandles: IOHandles \u001b[38;5;241m|\u001b[39m \u001b[38;5;28;01mNone\u001b[39;00m \u001b[38;5;241m=\u001b[39m \u001b[38;5;28;01mNone\u001b[39;00m\n\u001b[0;32m-> 1620\u001b[0m \u001b[38;5;28mself\u001b[39m\u001b[38;5;241m.\u001b[39m_engine \u001b[38;5;241m=\u001b[39m \u001b[38;5;28;43mself\u001b[39;49m\u001b[38;5;241;43m.\u001b[39;49m\u001b[43m_make_engine\u001b[49m\u001b[43m(\u001b[49m\u001b[43mf\u001b[49m\u001b[43m,\u001b[49m\u001b[43m \u001b[49m\u001b[38;5;28;43mself\u001b[39;49m\u001b[38;5;241;43m.\u001b[39;49m\u001b[43mengine\u001b[49m\u001b[43m)\u001b[49m\n",
      "File \u001b[0;32m/opt/anaconda3/lib/python3.12/site-packages/pandas/io/parsers/readers.py:1880\u001b[0m, in \u001b[0;36mTextFileReader._make_engine\u001b[0;34m(self, f, engine)\u001b[0m\n\u001b[1;32m   1878\u001b[0m     \u001b[38;5;28;01mif\u001b[39;00m \u001b[38;5;124m\"\u001b[39m\u001b[38;5;124mb\u001b[39m\u001b[38;5;124m\"\u001b[39m \u001b[38;5;129;01mnot\u001b[39;00m \u001b[38;5;129;01min\u001b[39;00m mode:\n\u001b[1;32m   1879\u001b[0m         mode \u001b[38;5;241m+\u001b[39m\u001b[38;5;241m=\u001b[39m \u001b[38;5;124m\"\u001b[39m\u001b[38;5;124mb\u001b[39m\u001b[38;5;124m\"\u001b[39m\n\u001b[0;32m-> 1880\u001b[0m \u001b[38;5;28mself\u001b[39m\u001b[38;5;241m.\u001b[39mhandles \u001b[38;5;241m=\u001b[39m \u001b[43mget_handle\u001b[49m\u001b[43m(\u001b[49m\n\u001b[1;32m   1881\u001b[0m \u001b[43m    \u001b[49m\u001b[43mf\u001b[49m\u001b[43m,\u001b[49m\n\u001b[1;32m   1882\u001b[0m \u001b[43m    \u001b[49m\u001b[43mmode\u001b[49m\u001b[43m,\u001b[49m\n\u001b[1;32m   1883\u001b[0m \u001b[43m    \u001b[49m\u001b[43mencoding\u001b[49m\u001b[38;5;241;43m=\u001b[39;49m\u001b[38;5;28;43mself\u001b[39;49m\u001b[38;5;241;43m.\u001b[39;49m\u001b[43moptions\u001b[49m\u001b[38;5;241;43m.\u001b[39;49m\u001b[43mget\u001b[49m\u001b[43m(\u001b[49m\u001b[38;5;124;43m\"\u001b[39;49m\u001b[38;5;124;43mencoding\u001b[39;49m\u001b[38;5;124;43m\"\u001b[39;49m\u001b[43m,\u001b[49m\u001b[43m \u001b[49m\u001b[38;5;28;43;01mNone\u001b[39;49;00m\u001b[43m)\u001b[49m\u001b[43m,\u001b[49m\n\u001b[1;32m   1884\u001b[0m \u001b[43m    \u001b[49m\u001b[43mcompression\u001b[49m\u001b[38;5;241;43m=\u001b[39;49m\u001b[38;5;28;43mself\u001b[39;49m\u001b[38;5;241;43m.\u001b[39;49m\u001b[43moptions\u001b[49m\u001b[38;5;241;43m.\u001b[39;49m\u001b[43mget\u001b[49m\u001b[43m(\u001b[49m\u001b[38;5;124;43m\"\u001b[39;49m\u001b[38;5;124;43mcompression\u001b[39;49m\u001b[38;5;124;43m\"\u001b[39;49m\u001b[43m,\u001b[49m\u001b[43m \u001b[49m\u001b[38;5;28;43;01mNone\u001b[39;49;00m\u001b[43m)\u001b[49m\u001b[43m,\u001b[49m\n\u001b[1;32m   1885\u001b[0m \u001b[43m    \u001b[49m\u001b[43mmemory_map\u001b[49m\u001b[38;5;241;43m=\u001b[39;49m\u001b[38;5;28;43mself\u001b[39;49m\u001b[38;5;241;43m.\u001b[39;49m\u001b[43moptions\u001b[49m\u001b[38;5;241;43m.\u001b[39;49m\u001b[43mget\u001b[49m\u001b[43m(\u001b[49m\u001b[38;5;124;43m\"\u001b[39;49m\u001b[38;5;124;43mmemory_map\u001b[39;49m\u001b[38;5;124;43m\"\u001b[39;49m\u001b[43m,\u001b[49m\u001b[43m \u001b[49m\u001b[38;5;28;43;01mFalse\u001b[39;49;00m\u001b[43m)\u001b[49m\u001b[43m,\u001b[49m\n\u001b[1;32m   1886\u001b[0m \u001b[43m    \u001b[49m\u001b[43mis_text\u001b[49m\u001b[38;5;241;43m=\u001b[39;49m\u001b[43mis_text\u001b[49m\u001b[43m,\u001b[49m\n\u001b[1;32m   1887\u001b[0m \u001b[43m    \u001b[49m\u001b[43merrors\u001b[49m\u001b[38;5;241;43m=\u001b[39;49m\u001b[38;5;28;43mself\u001b[39;49m\u001b[38;5;241;43m.\u001b[39;49m\u001b[43moptions\u001b[49m\u001b[38;5;241;43m.\u001b[39;49m\u001b[43mget\u001b[49m\u001b[43m(\u001b[49m\u001b[38;5;124;43m\"\u001b[39;49m\u001b[38;5;124;43mencoding_errors\u001b[39;49m\u001b[38;5;124;43m\"\u001b[39;49m\u001b[43m,\u001b[49m\u001b[43m \u001b[49m\u001b[38;5;124;43m\"\u001b[39;49m\u001b[38;5;124;43mstrict\u001b[39;49m\u001b[38;5;124;43m\"\u001b[39;49m\u001b[43m)\u001b[49m\u001b[43m,\u001b[49m\n\u001b[1;32m   1888\u001b[0m \u001b[43m    \u001b[49m\u001b[43mstorage_options\u001b[49m\u001b[38;5;241;43m=\u001b[39;49m\u001b[38;5;28;43mself\u001b[39;49m\u001b[38;5;241;43m.\u001b[39;49m\u001b[43moptions\u001b[49m\u001b[38;5;241;43m.\u001b[39;49m\u001b[43mget\u001b[49m\u001b[43m(\u001b[49m\u001b[38;5;124;43m\"\u001b[39;49m\u001b[38;5;124;43mstorage_options\u001b[39;49m\u001b[38;5;124;43m\"\u001b[39;49m\u001b[43m,\u001b[49m\u001b[43m \u001b[49m\u001b[38;5;28;43;01mNone\u001b[39;49;00m\u001b[43m)\u001b[49m\u001b[43m,\u001b[49m\n\u001b[1;32m   1889\u001b[0m \u001b[43m\u001b[49m\u001b[43m)\u001b[49m\n\u001b[1;32m   1890\u001b[0m \u001b[38;5;28;01massert\u001b[39;00m \u001b[38;5;28mself\u001b[39m\u001b[38;5;241m.\u001b[39mhandles \u001b[38;5;129;01mis\u001b[39;00m \u001b[38;5;129;01mnot\u001b[39;00m \u001b[38;5;28;01mNone\u001b[39;00m\n\u001b[1;32m   1891\u001b[0m f \u001b[38;5;241m=\u001b[39m \u001b[38;5;28mself\u001b[39m\u001b[38;5;241m.\u001b[39mhandles\u001b[38;5;241m.\u001b[39mhandle\n",
      "File \u001b[0;32m/opt/anaconda3/lib/python3.12/site-packages/pandas/io/common.py:873\u001b[0m, in \u001b[0;36mget_handle\u001b[0;34m(path_or_buf, mode, encoding, compression, memory_map, is_text, errors, storage_options)\u001b[0m\n\u001b[1;32m    868\u001b[0m \u001b[38;5;28;01melif\u001b[39;00m \u001b[38;5;28misinstance\u001b[39m(handle, \u001b[38;5;28mstr\u001b[39m):\n\u001b[1;32m    869\u001b[0m     \u001b[38;5;66;03m# Check whether the filename is to be opened in binary mode.\u001b[39;00m\n\u001b[1;32m    870\u001b[0m     \u001b[38;5;66;03m# Binary mode does not support 'encoding' and 'newline'.\u001b[39;00m\n\u001b[1;32m    871\u001b[0m     \u001b[38;5;28;01mif\u001b[39;00m ioargs\u001b[38;5;241m.\u001b[39mencoding \u001b[38;5;129;01mand\u001b[39;00m \u001b[38;5;124m\"\u001b[39m\u001b[38;5;124mb\u001b[39m\u001b[38;5;124m\"\u001b[39m \u001b[38;5;129;01mnot\u001b[39;00m \u001b[38;5;129;01min\u001b[39;00m ioargs\u001b[38;5;241m.\u001b[39mmode:\n\u001b[1;32m    872\u001b[0m         \u001b[38;5;66;03m# Encoding\u001b[39;00m\n\u001b[0;32m--> 873\u001b[0m         handle \u001b[38;5;241m=\u001b[39m \u001b[38;5;28;43mopen\u001b[39;49m\u001b[43m(\u001b[49m\n\u001b[1;32m    874\u001b[0m \u001b[43m            \u001b[49m\u001b[43mhandle\u001b[49m\u001b[43m,\u001b[49m\n\u001b[1;32m    875\u001b[0m \u001b[43m            \u001b[49m\u001b[43mioargs\u001b[49m\u001b[38;5;241;43m.\u001b[39;49m\u001b[43mmode\u001b[49m\u001b[43m,\u001b[49m\n\u001b[1;32m    876\u001b[0m \u001b[43m            \u001b[49m\u001b[43mencoding\u001b[49m\u001b[38;5;241;43m=\u001b[39;49m\u001b[43mioargs\u001b[49m\u001b[38;5;241;43m.\u001b[39;49m\u001b[43mencoding\u001b[49m\u001b[43m,\u001b[49m\n\u001b[1;32m    877\u001b[0m \u001b[43m            \u001b[49m\u001b[43merrors\u001b[49m\u001b[38;5;241;43m=\u001b[39;49m\u001b[43merrors\u001b[49m\u001b[43m,\u001b[49m\n\u001b[1;32m    878\u001b[0m \u001b[43m            \u001b[49m\u001b[43mnewline\u001b[49m\u001b[38;5;241;43m=\u001b[39;49m\u001b[38;5;124;43m\"\u001b[39;49m\u001b[38;5;124;43m\"\u001b[39;49m\u001b[43m,\u001b[49m\n\u001b[1;32m    879\u001b[0m \u001b[43m        \u001b[49m\u001b[43m)\u001b[49m\n\u001b[1;32m    880\u001b[0m     \u001b[38;5;28;01melse\u001b[39;00m:\n\u001b[1;32m    881\u001b[0m         \u001b[38;5;66;03m# Binary mode\u001b[39;00m\n\u001b[1;32m    882\u001b[0m         handle \u001b[38;5;241m=\u001b[39m \u001b[38;5;28mopen\u001b[39m(handle, ioargs\u001b[38;5;241m.\u001b[39mmode)\n",
      "\u001b[0;31mFileNotFoundError\u001b[0m: [Errno 2] No such file or directory: 'USA_Housing.csv'"
     ]
    }
   ],
   "source": [
    "\n",
    "housing_df = pd.read_csv(\"../data/USA_Housing.csv\")\n"
   ]
  },
  {
   "cell_type": "markdown",
   "id": "be7995f6",
   "metadata": {},
   "source": [
    "### Part a (ii): Basic Data Exploration"
   ]
  },
  {
   "cell_type": "code",
   "execution_count": null,
   "id": "58547083",
   "metadata": {},
   "outputs": [],
   "source": [
    "# Display the first 5 rows\n",
    "housing_df.head()"
   ]
  },
  {
   "cell_type": "code",
   "execution_count": null,
   "id": "bec59045",
   "metadata": {},
   "outputs": [],
   "source": [
    "# Show data types and non-null counts\n",
    "housing_df.info()\n"
   ]
  },
  {
   "cell_type": "code",
   "execution_count": null,
   "id": "6ee41d09",
   "metadata": {},
   "outputs": [],
   "source": [
    "# Descriptive statistics for numeric features\n",
    "housing_df.describe()\n"
   ]
  },
  {
   "cell_type": "code",
   "execution_count": null,
   "id": "cd110abb",
   "metadata": {},
   "outputs": [],
   "source": [
    "# Check for missing values in each column\n",
    "housing_df.isnull().sum()\n"
   ]
  },
  {
   "cell_type": "markdown",
   "id": "36fdc1ac",
   "metadata": {},
   "source": [
    "I loaded the `USA_Housing.csv` dataset into a DataFrame named `housing_df`.  \n",
    "It contains 5000 entries with 7 columns. All columns are complete with no missing values.  \n",
    "There are 6 numerical columns and 1 categorical column (`Address`).\n"
   ]
  },
  {
   "cell_type": "markdown",
   "id": "fd9243d7",
   "metadata": {},
   "source": [
    "### Part a (iii): Identify Features and Target Variable"
   ]
  },
  {
   "cell_type": "code",
   "execution_count": null,
   "id": "85afbe62",
   "metadata": {},
   "outputs": [],
   "source": [
    "# Define target and feature columns\n",
    "target_column = 'Price'\n",
    "feature_columns = [\n",
    "    col for col in housing_df.select_dtypes(include='number').columns\n",
    "    if col != target_column\n",
    "]\n"
   ]
  },
  {
   "cell_type": "markdown",
   "id": "3cce67ba",
   "metadata": {},
   "source": [
    "The target variable is `Price`.  \n",
    "The features (independent variables) are:\n",
    "- `Avg. Area Income`\n",
    "- `Avg. Area House Age`\n",
    "- `Avg. Area Number of Rooms`\n",
    "- `Avg. Area Number of Bedrooms`\n",
    "- `Area Population`"
   ]
  },
  {
   "cell_type": "markdown",
   "id": "fdb4eeb9",
   "metadata": {},
   "source": [
    "### Part a (iv): Feature Engineering"
   ]
  },
  {
   "cell_type": "code",
   "execution_count": null,
   "id": "a929598b",
   "metadata": {},
   "outputs": [],
   "source": [
    "# Create Avg_Area_Room_Per_Person = Rooms / Bedrooms\n",
    "housing_df['Avg_Area_Room_Per_Person'] = (\n",
    "    housing_df['Avg. Area Number of Rooms'] / housing_df['Avg. Area Number of Bedrooms']\n",
    ")\n"
   ]
  },
  {
   "cell_type": "code",
   "execution_count": null,
   "id": "1d56435e",
   "metadata": {},
   "outputs": [],
   "source": [
    "# Extract 5-digit Zip Code (if available) from the Address column\n",
    "housing_df['Zip_Code'] = housing_df['Address'].str.extract(r'(\\d{5})').astype(float)\n"
   ]
  },
  {
   "cell_type": "markdown",
   "id": "ca374d04",
   "metadata": {},
   "source": [
    "I made a new feature called `Avg_Area_Room_Per_Person`.\n",
    "It is made by dividing the number of rooms by the number of bedrooms.\n",
    "This shows how many rooms each bedroom has on average.\n",
    "I think this might help show how large or nice the house is.\n",
    "\n",
    "I also took out 5-digit zip codes from the `Address` column.\n",
    "Even though `Address` is just text, the zip code can tell us something about the neighborhood.\n",
    "Some areas may have higher house prices, so the zip code might be useful."
   ]
  },
  {
   "cell_type": "markdown",
   "id": "b884a803",
   "metadata": {},
   "source": [
    "### Part a (v): Outlier Detection"
   ]
  },
  {
   "cell_type": "code",
   "execution_count": null,
   "id": "fd0d7a1f",
   "metadata": {},
   "outputs": [],
   "source": [
    "# Use Z-score to detect outliers in the Price column\n",
    "price_z = (housing_df['Price'] - housing_df['Price'].mean()) / housing_df['Price'].std()\n",
    "housing_df_no_outliers = housing_df[price_z.abs() < 3]\n"
   ]
  },
  {
   "cell_type": "code",
   "execution_count": null,
   "id": "a1c04fab",
   "metadata": {},
   "outputs": [],
   "source": [
    "# Visualize Price distribution before and after removing outliers\n",
    "plt.figure(figsize=(12, 5))\n",
    "\n",
    "plt.subplot(1, 2, 1)\n",
    "sns.histplot(housing_df['Price'], bins=30, kde=True, color='orange')\n",
    "plt.title(\"Price Distribution (Before Outlier Removal)\", fontsize=16, fontweight='bold')\n",
    "plt.xlabel(\"Price\")\n",
    "\n",
    "plt.subplot(1, 2, 2)\n",
    "sns.histplot(housing_df_no_outliers['Price'], bins=30, kde=True, color='orange')\n",
    "plt.title(\"Price Distribution (After Outlier Removal)\", fontsize=16, fontweight='bold')\n",
    "plt.xlabel(\"Price\")\n",
    "\n",
    "plt.tight_layout()\n",
    "plt.show()\n"
   ]
  },
  {
   "cell_type": "markdown",
   "id": "60c39a54",
   "metadata": {},
   "source": [
    "To find outliers in the `Price` column, I used the **Z-score method**.\n",
    "\n",
    "- First, I calculated the Z-score for each price.\n",
    "- If the score was above 3 or below -3, I treated it as an outlier.\n",
    "- Then I removed those rows to make the data more normal.\n",
    "\n",
    "In the left chart, I show the price distribution **before** removing outliers.  \n",
    "In the right chart, I show it **after** removing outliers.\n",
    "\n",
    "- After removing the outliers, the shape looks smoother and more balanced.  \n",
    "- This helps the model learn better and makes predictions more stable.\n"
   ]
  },
  {
   "cell_type": "markdown",
   "id": "e6486a71",
   "metadata": {},
   "source": [
    "## Linear Regression Model"
   ]
  },
  {
   "cell_type": "markdown",
   "id": "4896d831",
   "metadata": {},
   "source": [
    "### Part b (i): Split the Dataset"
   ]
  },
  {
   "cell_type": "code",
   "execution_count": null,
   "id": "0aabacb8",
   "metadata": {},
   "outputs": [],
   "source": [
    "# Prepare features and target using the cleaned dataset\n",
    "final_features = feature_columns + ['Avg_Area_Room_Per_Person', 'Zip_Code']\n",
    "X = housing_df_no_outliers[final_features]\n",
    "y = housing_df_no_outliers['Price']\n",
    "\n",
    "# Split into 80% training and 20% testing\n",
    "X_train, X_test, y_train, y_test = train_test_split(\n",
    "    X, y, test_size=0.2, random_state=42\n",
    ")\n"
   ]
  },
  {
   "cell_type": "markdown",
   "id": "89124a64",
   "metadata": {},
   "source": [
    "I picked seven features for my model.\n",
    "This includes the new features `Avg_Area_Room_Per_Person` and `Zip_Code`.\n",
    "Then, I split the data into two parts: 80% for training and 20% for testing.\n",
    "I used `random_state=42` so I can get the same result every time I run it."
   ]
  },
  {
   "cell_type": "markdown",
   "id": "4c62d7e9",
   "metadata": {},
   "source": [
    "### Part b (ii): Create the Model"
   ]
  },
  {
   "cell_type": "code",
   "execution_count": null,
   "id": "f80569ec",
   "metadata": {},
   "outputs": [],
   "source": [
    "# Instantiate the Linear Regression model\n",
    "linear_model = LinearRegression()\n"
   ]
  },
  {
   "cell_type": "markdown",
   "id": "4cbf9827",
   "metadata": {},
   "source": [
    "I made a basic `LinearRegression` model using scikit-learn.\n",
    "This model is my starting point for predicting house prices."
   ]
  },
  {
   "cell_type": "markdown",
   "id": "07739d99",
   "metadata": {},
   "source": [
    "### Part b (iii): Train the Model"
   ]
  },
  {
   "cell_type": "code",
   "execution_count": null,
   "id": "2af1a521",
   "metadata": {},
   "outputs": [],
   "source": [
    "# Fit the model to the training data\n",
    "linear_model.fit(X_train, y_train)\n"
   ]
  },
  {
   "cell_type": "markdown",
   "id": "816ea1c9",
   "metadata": {},
   "source": [
    "I trained the model using the training data.\n",
    "The model learned how the features are related to the house `Price`."
   ]
  },
  {
   "cell_type": "markdown",
   "id": "4557aa5c",
   "metadata": {},
   "source": [
    "### Part b (iv): Predict on the Test Set"
   ]
  },
  {
   "cell_type": "code",
   "execution_count": null,
   "id": "36386ad3",
   "metadata": {},
   "outputs": [],
   "source": [
    "# Generate predictions on the test set\n",
    "y_pred = linear_model.predict(X_test)\n",
    "\n",
    "# Display first 5 predictions\n",
    "y_pred[:5]\n"
   ]
  },
  {
   "cell_type": "markdown",
   "id": "25a5cb4b",
   "metadata": {},
   "source": [
    "- I used my trained model to predict house prices with the test data.\n",
    "- Later, I will check if the predictions are good by using some evaluation scores."
   ]
  },
  {
   "cell_type": "markdown",
   "id": "2a5c8bcd",
   "metadata": {},
   "source": [
    "## Regularization"
   ]
  },
  {
   "cell_type": "markdown",
   "id": "89ac93de",
   "metadata": {},
   "source": [
    "### Part c (i): Train Ridge and Lasso Regression Models"
   ]
  },
  {
   "cell_type": "code",
   "execution_count": null,
   "id": "1c09339e",
   "metadata": {},
   "outputs": [],
   "source": [
    "# Try three alpha values for both Ridge and Lasso\n",
    "alphas = [0.01, 1, 100]\n",
    "\n",
    "# Train Ridge models\n",
    "ridge_models = [Ridge(alpha=a) for a in alphas]\n",
    "for model in ridge_models:\n",
    "    model.fit(X_train, y_train)\n",
    "\n",
    "# Train Lasso models (with high max_iter to ensure convergence)\n",
    "lasso_models = [Lasso(alpha=a, max_iter=10000) for a in alphas]\n",
    "for model in lasso_models:\n",
    "    model.fit(X_train, y_train)\n"
   ]
  },
  {
   "cell_type": "markdown",
   "id": "675b11bf",
   "metadata": {},
   "source": [
    "- I used Ridge and Lasso regression to see how regularization changes the model.\n",
    "- I tried three different alpha values: 0.01, 1, and 100."
   ]
  },
  {
   "cell_type": "markdown",
   "id": "71888ae9",
   "metadata": {},
   "source": [
    "### Lasso Regression Evaluation\n",
    "\n",
    "To find the best `alpha` for Lasso regression, I tested three values: `0.01`, `1`, and `100`.\n",
    "\n",
    "I used **R² score** to measure how good each model was on the test data.\n",
    "\n",
    "Here are the results:\n"
   ]
  },
  {
   "cell_type": "code",
   "execution_count": null,
   "id": "ff6ab5c3",
   "metadata": {},
   "outputs": [],
   "source": [
    "# Evaluate each Lasso model using R² on test set\n",
    "from sklearn.metrics import r2_score\n",
    "\n",
    "r2_scores = []\n",
    "for model in lasso_models:\n",
    "    y_pred = model.predict(X_test)\n",
    "    r2 = r2_score(y_test, y_pred)\n",
    "    r2_scores.append(r2)\n",
    "\n",
    "# Print scores and pick the best\n",
    "for a, r2 in zip(alphas, r2_scores):\n",
    "    print(f\"Lasso alpha={a}, R²={r2:.4f}\")\n",
    "\n",
    "best_alpha = alphas[np.argmax(r2_scores)]\n",
    "print(\"Best Lasso alpha:\", best_alpha)\n"
   ]
  },
  {
   "cell_type": "markdown",
   "id": "02a1071b",
   "metadata": {},
   "source": [
    "\n",
    "All three models gave the **same R² score** of `0.9132`. However, I chose `alpha = 0.01` as the best one because it is the smallest among the models with the highest score.\n",
    "\n",
    "👉 **Best Lasso alpha: `0.01`**\n",
    "\n",
    "This means the model is performing well, and the regularization is not too strong."
   ]
  },
  {
   "cell_type": "markdown",
   "id": "8f679cdc",
   "metadata": {},
   "source": [
    "### Part c (ii): Compare Coefficients and Explain the Role of α"
   ]
  },
  {
   "cell_type": "code",
   "execution_count": null,
   "id": "26b5468b",
   "metadata": {},
   "outputs": [],
   "source": [
    "# Combine coefficients for comparison\n",
    "coefficients_df = pd.DataFrame({\n",
    "    'Feature': X_train.columns,\n",
    "    'Linear': linear_model.coef_,\n",
    "    'Ridge (alpha=0.01)': ridge_models[0].coef_,\n",
    "    'Ridge (alpha=1)': ridge_models[1].coef_,\n",
    "    'Ridge (alpha=100)': ridge_models[2].coef_,\n",
    "    'Lasso (alpha=0.01)': lasso_models[0].coef_,\n",
    "    'Lasso (alpha=1)': lasso_models[1].coef_,\n",
    "    'Lasso (alpha=100)': lasso_models[2].coef_,\n",
    "})\n",
    "\n",
    "coefficients_df\n"
   ]
  },
  {
   "cell_type": "markdown",
   "id": "75f5e18f",
   "metadata": {},
   "source": [
    "I learned that the **alpha** value controls how much we limit the model.\n",
    "\n",
    "- When **alpha is small** (like `0.01`), the model works almost like normal linear regression.\n",
    "- When **alpha is big** (like `100`), it makes the model simpler by shrinking the coefficients.\n",
    "\n",
    "I also saw the difference between **Ridge** and **Lasso**:\n",
    "\n",
    "- **Ridge** makes the coefficient values smaller, but it does **not** make them zero.\n",
    "- **Lasso** can make some coefficients exactly **zero**, so it helps the model pick only the important features."
   ]
  },
  {
   "cell_type": "markdown",
   "id": "8450c88c",
   "metadata": {},
   "source": [
    "### Part c (iii): Interpretation of Coefficient Differences"
   ]
  },
  {
   "cell_type": "markdown",
   "id": "6f3706ce",
   "metadata": {},
   "source": [
    "After looking at the coefficients from each model, I learned a few things:\n",
    "\n",
    "- All models show similar results for the main features.\n",
    "- When **alpha is large** (like `100`), **Ridge** makes the coefficients smaller, but still keeps all the features.\n",
    "- **Lasso** with alpha = `100` makes some features almost zero.\n",
    "\n",
    "This shows me that **Lasso is good for choosing important features**.  \n",
    "If some features are not helpful, Lasso can remove them by setting their value to zero.\n"
   ]
  },
  {
   "cell_type": "markdown",
   "id": "cf07f064",
   "metadata": {},
   "source": [
    "## Model Evaluation"
   ]
  },
  {
   "cell_type": "markdown",
   "id": "88d8398e",
   "metadata": {},
   "source": [
    "### Part d (i) and (ii): Evaluate All Models on the Test Set"
   ]
  },
  {
   "cell_type": "code",
   "execution_count": null,
   "id": "98553ec1",
   "metadata": {},
   "outputs": [],
   "source": [
    "# Define evaluation function\n",
    "def evaluate_model(model, X_test, y_test):\n",
    "    predictions = model.predict(X_test)\n",
    "    mae = mean_absolute_error(y_test, predictions)\n",
    "    mse = mean_squared_error(y_test, predictions)\n",
    "    rmse = np.sqrt(mse)\n",
    "    r2 = r2_score(y_test, predictions)\n",
    "    return [mae, mse, rmse, r2]\n",
    "\n",
    "# Apply to all models\n",
    "model_names = [\n",
    "    'Linear', 'Ridge (α=0.01)', 'Ridge (α=1)', 'Ridge (α=100)',\n",
    "    'Lasso (α=0.01)', 'Lasso (α=1)', 'Lasso (α=100)'\n",
    "]\n",
    "models = [linear_model] + ridge_models + lasso_models\n",
    "\n",
    "evaluation_results = [evaluate_model(m, X_test, y_test) for m in models]\n",
    "\n",
    "# Organize into DataFrame\n",
    "metrics_df = pd.DataFrame(evaluation_results, columns=['MAE', 'MSE', 'RMSE', 'R²'], index=model_names)\n",
    "metrics_df\n"
   ]
  },
  {
   "cell_type": "markdown",
   "id": "9dd73920",
   "metadata": {},
   "source": [
    "I tested all my models on the test data using four scores:\n",
    "\n",
    "- **MAE (Mean Absolute Error)**: shows the average mistake.\n",
    "- **MSE (Mean Squared Error)**: gives more weight to big mistakes.\n",
    "- **RMSE (Root Mean Squared Error)**: similar to MSE but easier to understand.\n",
    "- **R² (R-squared)**: tells me how well the model explains the prices.\n",
    "\n",
    "From the results table, I saw that:\n",
    "\n",
    "- The basic linear model and Ridge/Lasso (with α = 0.01 or 1) work almost the same.\n",
    "- But when α = 100, Ridge did worse. The model became too simple and lost accuracy.\n",
    "\n",
    "So, I think small alpha values work best for this dataset.\n"
   ]
  },
  {
   "cell_type": "markdown",
   "id": "66b64893",
   "metadata": {},
   "source": [
    "### Part d (iii): Interpretation of Metrics"
   ]
  },
  {
   "cell_type": "markdown",
   "id": "77e87f1c",
   "metadata": {},
   "source": [
    "Here is what I learned from the scores:\n",
    "\n",
    "- A lower **MAE** or **RMSE** means my predictions are more accurate.\n",
    "- A lower **MSE** helps me see if there are some big mistakes.\n",
    "- A higher **R²** means the model explains the house prices better.\n",
    "\n",
    "So, I want a model with **low errors** (MAE, MSE, RMSE) and a **high R² score**.  \n",
    "That kind of model will give me the best and most reliable results.\n"
   ]
  },
  {
   "cell_type": "code",
   "execution_count": null,
   "id": "d4122efe",
   "metadata": {},
   "outputs": [],
   "source": [
    "# Residuals = true - predicted\n",
    "residuals = y_test - y_pred\n",
    "\n",
    "plt.figure(figsize=(8, 5))\n",
    "sns.scatterplot(x=y_pred, y=residuals)\n",
    "plt.axhline(y=0, color='red', linestyle='--')\n",
    "plt.title('Residual Plot', fontsize=16, fontweight='bold')\n",
    "plt.xlabel('Predicted Prices')\n",
    "plt.ylabel('Residuals')\n",
    "plt.show()\n"
   ]
  },
  {
   "cell_type": "markdown",
   "id": "bd5443d7",
   "metadata": {},
   "source": [
    "This is the residual plot of my linear regression model.\n",
    "\n",
    "- The blue dots are the **residuals** (real price - predicted price).\n",
    "- The red line shows **zero error**.\n",
    "- Most dots are close to the red line and spread **evenly**.\n",
    "\n",
    "This means:\n",
    "\n",
    "- The model does not have clear bias.  \n",
    "- There is **no big pattern**, like a curve or funnel.  \n",
    "- The errors look **random**, which is a good sign.\n",
    "\n",
    "So I think my model is doing a good job. It makes predictions that are close to the real prices.\n"
   ]
  },
  {
   "cell_type": "markdown",
   "id": "1071d057",
   "metadata": {},
   "source": [
    "## Model Comparison Summary\n",
    "\n",
    "After training three models (Linear, Ridge, and Lasso), I compared their performance using the R² score on the test set. The results are shown in the table below:\n",
    "\n",
    "| Model Type       | Alpha   | R² Score |\n",
    "|------------------|---------|----------|\n",
    "| Linear Regression|   —     | 0.9132   |\n",
    "| Ridge Regression | 0.01    | 0.9132   |\n",
    "| Ridge Regression | 1       | 0.9132   |\n",
    "| Ridge Regression | 100     | 0.9132   |\n",
    "| Lasso Regression | 0.01    | 0.9132   |\n",
    "| Lasso Regression | 1       | 0.9132   |\n",
    "| Lasso Regression | 100     | 0.9132   |\n",
    "\n",
    "##  My Interpretation\n",
    "\n",
    "All three models gave the same R² score (0.9132), which means regularization had little impact in this case. I chose **Lasso(alpha=0.01)** as the best model because it is the smallest alpha that gave the same result, and it might help reduce complexity in real applications.\n",
    "\n",
    "Next, I will use this best Lasso model for cross-validation to confirm its stability.\n"
   ]
  },
  {
   "cell_type": "markdown",
   "id": "518e933d",
   "metadata": {},
   "source": [
    "### Part d (iv): Cross-Validation"
   ]
  },
  {
   "cell_type": "markdown",
   "id": "3203b6a6",
   "metadata": {},
   "source": [
    "### Cross-Validation on Best Lasso Model\n",
    "- I used the Lasso model with α = 0.01, which gave the best R² score earlier.\n",
    "\n",
    "- Then, I performed 5-fold cross-validation to see how stable the model is."
   ]
  },
  {
   "cell_type": "code",
   "execution_count": null,
   "id": "8f459449",
   "metadata": {},
   "outputs": [],
   "source": [
    "# Use best Lasso model for cross-validation\n",
    "best_lasso_model = Lasso(alpha=0.01)\n",
    "cv_scores = cross_val_score(best_lasso_model, X, y, cv=5, scoring='r2')\n",
    "cv_mean = cv_scores.mean()\n",
    "cv_std = cv_scores.std()\n",
    "\n",
    "cv_mean, cv_std"
   ]
  },
  {
   "cell_type": "markdown",
   "id": "f9456ff4",
   "metadata": {},
   "source": [
    "- Mean R² from 5 folds: 0.9155\n",
    "\n",
    "- Standard deviation: 0.0031\n",
    "\n",
    "This tells me that my model is not only accurate but also consistent across different data splits."
   ]
  },
  {
   "cell_type": "markdown",
   "id": "d07c803e",
   "metadata": {},
   "source": [
    "## Coefficients and Intercept"
   ]
  },
  {
   "cell_type": "markdown",
   "id": "a4f5d6bd",
   "metadata": {},
   "source": [
    "### Part e (i): Display Coefficients and Intercept"
   ]
  },
  {
   "cell_type": "code",
   "execution_count": null,
   "id": "e33048e0",
   "metadata": {},
   "outputs": [],
   "source": [
    "# Show coefficients of the linear regression model\n",
    "linear_coefficients = pd.DataFrame({\n",
    "    'Feature': X_train.columns,\n",
    "    'Coefficient': linear_model.coef_\n",
    "})\n",
    "\n",
    "# Show intercept\n",
    "linear_intercept = linear_model.intercept_\n",
    "\n",
    "linear_coefficients, linear_intercept\n"
   ]
  },
  {
   "cell_type": "markdown",
   "id": "74e8b847",
   "metadata": {},
   "source": [
    "I printed the coefficients of each feature and the intercept of my linear regression model.\n",
    "\n",
    "The intercept is **-2,622,853**, which means if all features were zero, the model would predict a negative price.  \n",
    "This value has no real meaning on its own, but it helps adjust the baseline of predictions.\n"
   ]
  },
  {
   "cell_type": "markdown",
   "id": "5847ba76",
   "metadata": {},
   "source": [
    "### Part e (ii): Interpret the Coefficients"
   ]
  },
  {
   "cell_type": "markdown",
   "id": "b0e27de9",
   "metadata": {},
   "source": [
    "Each coefficient shows how much the predicted price changes when one feature increases by one unit, while other features stay the same.\n",
    "\n",
    "Here are some examples from my model:\n",
    "\n",
    "- `Avg. Area Income`: For every 1 dollar increase in income, the housing price goes up by about **$21.51**.\n",
    "- `Avg. Area House Age`: Older houses increase the price. For every extra year, the price goes up by about **$164,602**.\n",
    "- `Avg. Area Number of Rooms`: More rooms strongly increase price. Each extra room adds about **$120,815**.\n",
    "- `Avg. Area Number of Bedrooms`: Each extra bedroom adds about **$939**, which is small compared to rooms.\n",
    "- `Area Population`: A larger population adds a small increase. Each extra person adds **$15.23**.\n",
    "- `Avg_Area_Room_Per_Person`: This value is **negative**. If there are more rooms per person, the price slightly goes **down** by **$3,448**.\n",
    "- `Zip_Code`: This coefficient is close to **0**, meaning zip code has almost no effect in this form.\n",
    "\n",
    "In summary, features like income, number of rooms, and house age have the biggest positive effect on price.\n"
   ]
  }
 ],
 "metadata": {
  "kernelspec": {
   "display_name": "base",
   "language": "python",
   "name": "python3"
  },
  "language_info": {
   "codemirror_mode": {
    "name": "ipython",
    "version": 3
   },
   "file_extension": ".py",
   "mimetype": "text/x-python",
   "name": "python",
   "nbconvert_exporter": "python",
   "pygments_lexer": "ipython3",
   "version": "3.12.2"
  }
 },
 "nbformat": 4,
 "nbformat_minor": 5
}
